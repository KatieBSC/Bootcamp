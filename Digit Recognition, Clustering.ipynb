{
 "cells": [
  {
   "cell_type": "markdown",
   "metadata": {},
   "source": [
    "## Digit Recognition by Clustering"
   ]
  },
  {
   "cell_type": "markdown",
   "metadata": {},
   "source": [
    "According to the given information, the data reflects 16 x 16 grayscale images of digits. \n",
    "Each line is organized by a corresponding id (0-9) followed by the 256 grayscale values.\n",
    "   <br />             \n",
    "We begin with 7291 training observations with the following distribution:\n",
    "<br />\n",
    "<br />\n",
    "&nbsp;&nbsp;&nbsp;&nbsp;&nbsp;&nbsp;&nbsp;&nbsp;&nbsp;&nbsp;&nbsp;&nbsp;&nbsp;&nbsp;&nbsp;&nbsp;&nbsp;&nbsp;&nbsp;&nbsp;&nbsp;&nbsp;&nbsp;&nbsp;&nbsp;&nbsp;&nbsp;&nbsp;&nbsp;**0&nbsp;&nbsp;&nbsp;&nbsp;&nbsp;&nbsp;&nbsp;1&nbsp;&nbsp;&nbsp;&nbsp;&nbsp;&nbsp;&nbsp;2&nbsp;&nbsp;&nbsp;&nbsp;&nbsp;&nbsp;3&nbsp;&nbsp;&nbsp;&nbsp;&nbsp;&nbsp;&nbsp;4&nbsp;&nbsp;&nbsp;&nbsp;&nbsp;&nbsp;5&nbsp;&nbsp;&nbsp;&nbsp;&nbsp;&nbsp;6&nbsp;&nbsp;&nbsp;&nbsp;&nbsp;&nbsp;7&nbsp;&nbsp;&nbsp;&nbsp;&nbsp;&nbsp;8&nbsp;&nbsp;&nbsp;&nbsp;&nbsp;&nbsp;9&nbsp;&nbsp;&nbsp;&nbsp;Total**\n",
    "<br />\n",
    "&nbsp;&nbsp;&nbsp;&nbsp;&nbsp;&nbsp;&nbsp;**Instances**&nbsp;&nbsp;1194&nbsp;&nbsp;1005&nbsp;&nbsp;&nbsp;731&nbsp;&nbsp;658&nbsp;&nbsp;652&nbsp;&nbsp;556&nbsp;&nbsp;664&nbsp;&nbsp;645&nbsp;&nbsp;542&nbsp;&nbsp;644&nbsp;&nbsp;7291\n",
    "<br />\n",
    "**as proportions** &nbsp;0.16&nbsp;&nbsp;0.14&nbsp;&nbsp;&nbsp;0.1&nbsp;&nbsp;0.09&nbsp;0.09&nbsp;0.08&nbsp;0.09&nbsp;0.09&nbsp;0.07&nbsp;0.09\n",
    "<br /><br />\n",
    "We start by importing packages, reading the data, and removing all rows which do not contain numbers.\n",
    "<br />"
   ]
  },
  {
   "cell_type": "code",
   "execution_count": 26,
   "metadata": {},
   "outputs": [],
   "source": [
    "#Do we need all of these?\n",
    "import pandas as pd\n",
    "import numpy as np\n",
    "import matplotlib.pyplot as plt\n",
    "import pylab as plot\n",
    "from sklearn import mixture\n",
    "from sklearn.mixture import GMM\n",
    "from sklearn.cluster import KMeans\n",
    "from sklearn.metrics import confusion_matrix,accuracy_score\n",
    "import sklearn.datasets\n",
    "import seaborn as sns; sns.set()\n",
    "\n",
    "#Can we take this out????\n",
    "import warnings\n",
    "warnings.filterwarnings(\"ignore\", category=DeprecationWarning)"
   ]
  },
  {
   "cell_type": "code",
   "execution_count": 2,
   "metadata": {},
   "outputs": [],
   "source": [
    "training_data = pd.read_csv(\"data/zip.train\", header=None , sep=\" \")\n",
    "training_data = training_data.dropna(axis=1, how='any',thresh=None)"
   ]
  },
  {
   "cell_type": "markdown",
   "metadata": {},
   "source": [
    "## Digit as object##\n",
    "After creating multiple functions, and multiple headaches, it became clear that creating a Class would be a good idea to manipulate, organize, and visualize the data more efficiently.  <br /> Ten digits, ten objects. "
   ]
  },
  {
   "cell_type": "code",
   "execution_count": 3,
   "metadata": {},
   "outputs": [],
   "source": [
    "class Digit :\n",
    "    def __init__(self,digit,data) :  \n",
    "        self.digit = digit   # Digit (0-9)\n",
    "        self.data = data     # Training data\n",
    "    \n",
    "    def is_num(self) :\n",
    "        return pd.DataFrame(self.data[self.data[0]==self.digit])\n",
    "\n",
    "    def only_num(self) :\n",
    "        return pd.DataFrame((self.is_num()).drop((self.is_num()).columns[[0]],axis=1))\n",
    "    \n",
    "    def get_cluster_count (self,df) :\n",
    "        cluster_count = pd.DataFrame((df[df[0]==self.digit])['Label'].value_counts())\n",
    "        cluster_count.rename(columns={'Label':'Count'}, inplace=True)\n",
    "        return cluster_count\n",
    "    \n",
    "    def get_cluster_percent(self,df):\n",
    "        percent_list = []\n",
    "        cluster_percent = self.get_cluster_count(df) \n",
    "        i = 0\n",
    "        while i < len(cluster_percent) :\n",
    "            percent_list.append(float((cluster_percent.iloc[i])/(cluster_percent.sum()))*100)\n",
    "            i += 1\n",
    "        cluster_percent['Percent'] = (percent_list)\n",
    "        return cluster_percent.drop('Count',1)    \n",
    "    \n",
    "    def get_predicted_cluster(self,df):\n",
    "        return (self.get_cluster_count(df)).index[0]\n",
    "        \n",
    "    def get_clusters_sorted (self,df) :\n",
    "        all_clusters = np.append((all_digits).get_predicted_cluster(df))\n",
    "        return all_clusters "
   ]
  },
  {
   "cell_type": "markdown",
   "metadata": {},
   "source": [
    "**Create 10 digit objects**"
   ]
  },
  {
   "cell_type": "code",
   "execution_count": 4,
   "metadata": {},
   "outputs": [],
   "source": [
    "zero  = Digit(0,training_data)\n",
    "one   = Digit(1,training_data) \n",
    "two   = Digit(2,training_data)\n",
    "three = Digit(3,training_data)\n",
    "four  = Digit(4,training_data)\n",
    "five  = Digit(5,training_data)\n",
    "six   = Digit(6,training_data)\n",
    "seven = Digit(7,training_data)\n",
    "eight = Digit(8,training_data)\n",
    "nine  = Digit(9,training_data)\n",
    "\n",
    "all_digits= [zero,one,two,three,four,five,six,seven,eight,nine]"
   ]
  },
  {
   "cell_type": "markdown",
   "metadata": {},
   "source": [
    "**Additional functions for use with more than one digit**"
   ]
  },
  {
   "cell_type": "code",
   "execution_count": 5,
   "metadata": {},
   "outputs": [],
   "source": [
    "def get_cluster_name(df) :\n",
    "        cluster_name = df[[0,'Label']]\n",
    "        cluster_name.columns = ['Digit','Cluster']\n",
    "        return cluster_name\n",
    "\n",
    "def get_all_clusters (df):\n",
    "    all_clusters = []\n",
    "    for digit in all_digits :\n",
    "        all_clusters.append(digit.get_predicted_cluster(df))\n",
    "    return np.array(all_clusters)\n",
    "\n",
    "def plot_bar (df):\n",
    "    result_for_bar = pd.concat([zero.get_cluster_percent(df),one.get_cluster_percent(df),two.get_cluster_percent(df),three.get_cluster_percent(df),four.get_cluster_percent(df),five.get_cluster_percent(df),six.get_cluster_percent(df),seven.get_cluster_percent(df),eight.get_cluster_percent(df),nine.get_cluster_percent(df)],axis=1, sort=False)\n",
    "    result_for_bar = result_for_bar.fillna(0)\n",
    "    result_for_bar_T = result_for_bar.T\n",
    "    result_for_bar_T.loc[:,:].plot.bar(stacked=True,color=sns.color_palette(\"hls\", 10), figsize=(15,7))\n",
    "\n",
    "    # change the size of legend\n",
    "    params = {'legend.fontsize': 20,\n",
    "              'legend.handlelength': 2}\n",
    "    plot.rcParams.update(params)\n",
    "\n",
    "    #change legend position\n",
    "    ax = plt.gca()\n",
    "    plt.legend(bbox_to_anchor=(1, 1), bbox_transform=ax.transAxes)\n",
    "    \n",
    "def get_all_correct_clusters (df):\n",
    "    frequency = get_all_clusters(df) \n",
    "    label_digit_assignment = get_cluster_name(df)\n",
    "    label_digit_assignment.rename(columns={1: 'Cluster'})\n",
    "    df_supposed_cluster = pd.DataFrame(label_digit_assignment[\"Digit\"].replace([0.0, 1.0, 2.0, 3.0, 4.0, 5.0, 6.0, 7.0, 8.0, 9.0], frequency))\n",
    "    df_supposed_cluster.columns = ['Correct']\n",
    "    digit_supposed_cluster = pd.concat([label_digit_assignment, df_supposed_cluster], axis=1)\n",
    "    return digit_supposed_cluster\n",
    "\n",
    "def get_accuracy(df) :\n",
    "    a = get_all_correct_clusters(df)['Cluster']\n",
    "    b = get_all_correct_clusters(df)['Correct']\n",
    "    acc = accuracy_score(a,b, normalize=False)\n",
    "    acc_normalized= accuracy_score(a, b, normalize=True)\n",
    "    return str(acc) + \" ; \" + str(acc_normalized)"
   ]
  },
  {
   "cell_type": "markdown",
   "metadata": {},
   "source": [
    "## Clustering the data\n",
    " <br /> Initial approach: k-means clustering  <br />\n",
    " Also considered: Gaussian Mixture Model clustering "
   ]
  },
  {
   "cell_type": "code",
   "execution_count": 27,
   "metadata": {},
   "outputs": [],
   "source": [
    "\n",
    "data_with_digit = training_data.copy()\n",
    "data_with_digit_2 = training_data.copy()\n",
    "data_without_digit = data_with_digit.iloc[:,1:]\n",
    "data_without_digit_2 = data_with_digit_2.iloc[:,1:]\n",
    "\n",
    "#Random questions?!?!?!\n",
    "np.random.seed(1)\n",
    "kmeans = KMeans(10,random_state=0) \n",
    "labels = kmeans.fit(data_without_digit).predict(data_without_digit)\n",
    "data_with_digit['Label'] = labels\n",
    "\n",
    "\n",
    "#Random questions?!?!?!\n",
    "#To be honest, I really don't get this, but it could be implemented.\n",
    "#What do you guys think?\n",
    "np.random.seed(0)\n",
    "gmm = GMM(n_components=10,random_state=0).fit(data_without_digit_2)\n",
    "labels_2 = gmm.predict(data_without_digit_2)\n",
    "data_with_digit_2['Label'] = labels_2\n"
   ]
  },
  {
   "cell_type": "markdown",
   "metadata": {},
   "source": [
    "**Naming the clusted data for later use in functions**"
   ]
  },
  {
   "cell_type": "code",
   "execution_count": 7,
   "metadata": {},
   "outputs": [],
   "source": [
    "k_means_output = data_with_digit\n",
    "gmm_output = data_with_digit_2"
   ]
  },
  {
   "cell_type": "markdown",
   "metadata": {},
   "source": [
    "## First Impressions"
   ]
  },
  {
   "cell_type": "markdown",
   "metadata": {},
   "source": [
    "What are the clusters \"named?\"<br /> To how many clusters are observations of a single digit assigned?<br /> How do the models compare?"
   ]
  },
  {
   "cell_type": "code",
   "execution_count": 8,
   "metadata": {},
   "outputs": [
    {
     "data": {
      "text/html": [
       "<div>\n",
       "<style scoped>\n",
       "    .dataframe tbody tr th:only-of-type {\n",
       "        vertical-align: middle;\n",
       "    }\n",
       "\n",
       "    .dataframe tbody tr th {\n",
       "        vertical-align: top;\n",
       "    }\n",
       "\n",
       "    .dataframe thead th {\n",
       "        text-align: right;\n",
       "    }\n",
       "</style>\n",
       "<table border=\"1\" class=\"dataframe\">\n",
       "  <thead>\n",
       "    <tr style=\"text-align: right;\">\n",
       "      <th></th>\n",
       "      <th>Count</th>\n",
       "    </tr>\n",
       "  </thead>\n",
       "  <tbody>\n",
       "    <tr>\n",
       "      <th>2</th>\n",
       "      <td>1001</td>\n",
       "    </tr>\n",
       "    <tr>\n",
       "      <th>9</th>\n",
       "      <td>3</td>\n",
       "    </tr>\n",
       "    <tr>\n",
       "      <th>7</th>\n",
       "      <td>1</td>\n",
       "    </tr>\n",
       "  </tbody>\n",
       "</table>\n",
       "</div>"
      ],
      "text/plain": [
       "   Count\n",
       "2   1001\n",
       "9      3\n",
       "7      1"
      ]
     },
     "execution_count": 8,
     "metadata": {},
     "output_type": "execute_result"
    }
   ],
   "source": [
    "one.get_cluster_count(k_means_output)"
   ]
  },
  {
   "cell_type": "code",
   "execution_count": 9,
   "metadata": {},
   "outputs": [
    {
     "data": {
      "text/html": [
       "<div>\n",
       "<style scoped>\n",
       "    .dataframe tbody tr th:only-of-type {\n",
       "        vertical-align: middle;\n",
       "    }\n",
       "\n",
       "    .dataframe tbody tr th {\n",
       "        vertical-align: top;\n",
       "    }\n",
       "\n",
       "    .dataframe thead th {\n",
       "        text-align: right;\n",
       "    }\n",
       "</style>\n",
       "<table border=\"1\" class=\"dataframe\">\n",
       "  <thead>\n",
       "    <tr style=\"text-align: right;\">\n",
       "      <th></th>\n",
       "      <th>Count</th>\n",
       "    </tr>\n",
       "  </thead>\n",
       "  <tbody>\n",
       "    <tr>\n",
       "      <th>2</th>\n",
       "      <td>951</td>\n",
       "    </tr>\n",
       "    <tr>\n",
       "      <th>0</th>\n",
       "      <td>45</td>\n",
       "    </tr>\n",
       "    <tr>\n",
       "      <th>7</th>\n",
       "      <td>7</td>\n",
       "    </tr>\n",
       "    <tr>\n",
       "      <th>6</th>\n",
       "      <td>2</td>\n",
       "    </tr>\n",
       "  </tbody>\n",
       "</table>\n",
       "</div>"
      ],
      "text/plain": [
       "   Count\n",
       "2    951\n",
       "0     45\n",
       "7      7\n",
       "6      2"
      ]
     },
     "execution_count": 9,
     "metadata": {},
     "output_type": "execute_result"
    }
   ],
   "source": [
    "one.get_cluster_count(gmm_output)"
   ]
  },
  {
   "cell_type": "code",
   "execution_count": 10,
   "metadata": {},
   "outputs": [
    {
     "data": {
      "text/html": [
       "<div>\n",
       "<style scoped>\n",
       "    .dataframe tbody tr th:only-of-type {\n",
       "        vertical-align: middle;\n",
       "    }\n",
       "\n",
       "    .dataframe tbody tr th {\n",
       "        vertical-align: top;\n",
       "    }\n",
       "\n",
       "    .dataframe thead th {\n",
       "        text-align: right;\n",
       "    }\n",
       "</style>\n",
       "<table border=\"1\" class=\"dataframe\">\n",
       "  <thead>\n",
       "    <tr style=\"text-align: right;\">\n",
       "      <th></th>\n",
       "      <th>Percent</th>\n",
       "    </tr>\n",
       "  </thead>\n",
       "  <tbody>\n",
       "    <tr>\n",
       "      <th>4</th>\n",
       "      <td>82.826748</td>\n",
       "    </tr>\n",
       "    <tr>\n",
       "      <th>9</th>\n",
       "      <td>11.094225</td>\n",
       "    </tr>\n",
       "    <tr>\n",
       "      <th>6</th>\n",
       "      <td>1.975684</td>\n",
       "    </tr>\n",
       "    <tr>\n",
       "      <th>7</th>\n",
       "      <td>1.671733</td>\n",
       "    </tr>\n",
       "    <tr>\n",
       "      <th>1</th>\n",
       "      <td>1.215805</td>\n",
       "    </tr>\n",
       "    <tr>\n",
       "      <th>5</th>\n",
       "      <td>0.303951</td>\n",
       "    </tr>\n",
       "    <tr>\n",
       "      <th>3</th>\n",
       "      <td>0.303951</td>\n",
       "    </tr>\n",
       "    <tr>\n",
       "      <th>0</th>\n",
       "      <td>0.303951</td>\n",
       "    </tr>\n",
       "    <tr>\n",
       "      <th>8</th>\n",
       "      <td>0.151976</td>\n",
       "    </tr>\n",
       "    <tr>\n",
       "      <th>2</th>\n",
       "      <td>0.151976</td>\n",
       "    </tr>\n",
       "  </tbody>\n",
       "</table>\n",
       "</div>"
      ],
      "text/plain": [
       "     Percent\n",
       "4  82.826748\n",
       "9  11.094225\n",
       "6   1.975684\n",
       "7   1.671733\n",
       "1   1.215805\n",
       "5   0.303951\n",
       "3   0.303951\n",
       "0   0.303951\n",
       "8   0.151976\n",
       "2   0.151976"
      ]
     },
     "execution_count": 10,
     "metadata": {},
     "output_type": "execute_result"
    }
   ],
   "source": [
    "three.get_cluster_percent(k_means_output)"
   ]
  },
  {
   "cell_type": "markdown",
   "metadata": {},
   "source": [
    "## Clusters and Digits\n",
    "<br/>**Evaluating k-means clustering**<br/>"
   ]
  },
  {
   "cell_type": "code",
   "execution_count": 11,
   "metadata": {},
   "outputs": [
    {
     "data": {
      "image/png": "[encoded data removed]",
      "text/plain": [
       "<Figure size 1080x504 with 1 Axes>"
      ]
     },
     "metadata": {},
     "output_type": "display_data"
    }
   ],
   "source": [
    "plot_bar(k_means_output)"
   ]
  },
  {
   "cell_type": "markdown",
   "metadata": {},
   "source": [
    "<br />**Evaluating Gaussian Mixture Model clustering**<br />"
   ]
  },
  {
   "cell_type": "code",
   "execution_count": 12,
   "metadata": {},
   "outputs": [
    {
     "data": {
      "image/png": "[encoded data removed]",
      "text/plain": [
       "<Figure size 1080x504 with 1 Axes>"
      ]
     },
     "metadata": {},
     "output_type": "display_data"
    }
   ],
   "source": [
    "plot_bar(gmm_output)"
   ]
  },
  {
   "cell_type": "markdown",
   "metadata": {},
   "source": [
    "## Further questions\n",
    "<br />To which cluster is a digit predicted?<br />Are there any overlaps?"
   ]
  },
  {
   "cell_type": "markdown",
   "metadata": {},
   "source": [
    "**With k-means (3 and 5)**"
   ]
  },
  {
   "cell_type": "code",
   "execution_count": 13,
   "metadata": {},
   "outputs": [
    {
     "data": {
      "text/plain": [
       "array([5, 2, 6, 4, 1, 4, 0, 3, 9, 7])"
      ]
     },
     "execution_count": 13,
     "metadata": {},
     "output_type": "execute_result"
    }
   ],
   "source": [
    "get_all_clusters(k_means_output)"
   ]
  },
  {
   "cell_type": "code",
   "execution_count": 14,
   "metadata": {},
   "outputs": [
    {
     "data": {
      "text/plain": [
       "4"
      ]
     },
     "execution_count": 14,
     "metadata": {},
     "output_type": "execute_result"
    }
   ],
   "source": [
    "three.get_predicted_cluster(k_means_output)"
   ]
  },
  {
   "cell_type": "code",
   "execution_count": 15,
   "metadata": {},
   "outputs": [
    {
     "data": {
      "text/plain": [
       "4"
      ]
     },
     "execution_count": 15,
     "metadata": {},
     "output_type": "execute_result"
    }
   ],
   "source": [
    "five.get_predicted_cluster(k_means_output)"
   ]
  },
  {
   "cell_type": "markdown",
   "metadata": {},
   "source": [
    "**With Gaussian Mixture Model (three, four, seven, eight, and nine)**"
   ]
  },
  {
   "cell_type": "code",
   "execution_count": 16,
   "metadata": {},
   "outputs": [
    {
     "data": {
      "text/plain": [
       "array([5, 2, 6, 9, 7, 4, 0, 7, 9, 7])"
      ]
     },
     "execution_count": 16,
     "metadata": {},
     "output_type": "execute_result"
    }
   ],
   "source": [
    "get_all_clusters(gmm_output)    "
   ]
  },
  {
   "cell_type": "code",
   "execution_count": 17,
   "metadata": {},
   "outputs": [
    {
     "data": {
      "text/plain": [
       "9"
      ]
     },
     "execution_count": 17,
     "metadata": {},
     "output_type": "execute_result"
    }
   ],
   "source": [
    "three.get_predicted_cluster(gmm_output)"
   ]
  },
  {
   "cell_type": "code",
   "execution_count": 18,
   "metadata": {},
   "outputs": [
    {
     "data": {
      "text/plain": [
       "7"
      ]
     },
     "execution_count": 18,
     "metadata": {},
     "output_type": "execute_result"
    }
   ],
   "source": [
    "nine.get_predicted_cluster(gmm_output)"
   ]
  },
  {
   "cell_type": "markdown",
   "metadata": {},
   "source": [
    "## Looking at the big picture"
   ]
  },
  {
   "cell_type": "markdown",
   "metadata": {},
   "source": [
    "With regard to the type of clustering, how often do digits need to be reassigned?<br/> (Or rather, how many instances in our data are \"incorrectly\" clustered based on the assumption that the majority cluster is the correct cluster for that digit.)"
   ]
  },
  {
   "cell_type": "code",
   "execution_count": 19,
   "metadata": {},
   "outputs": [
    {
     "data": {
      "text/html": [
       "<div>\n",
       "<style scoped>\n",
       "    .dataframe tbody tr th:only-of-type {\n",
       "        vertical-align: middle;\n",
       "    }\n",
       "\n",
       "    .dataframe tbody tr th {\n",
       "        vertical-align: top;\n",
       "    }\n",
       "\n",
       "    .dataframe thead th {\n",
       "        text-align: right;\n",
       "    }\n",
       "</style>\n",
       "<table border=\"1\" class=\"dataframe\">\n",
       "  <thead>\n",
       "    <tr style=\"text-align: right;\">\n",
       "      <th></th>\n",
       "      <th>Digit</th>\n",
       "      <th>Cluster</th>\n",
       "      <th>Correct</th>\n",
       "    </tr>\n",
       "  </thead>\n",
       "  <tbody>\n",
       "    <tr>\n",
       "      <th>0</th>\n",
       "      <td>6.0</td>\n",
       "      <td>0</td>\n",
       "      <td>0.0</td>\n",
       "    </tr>\n",
       "    <tr>\n",
       "      <th>1</th>\n",
       "      <td>5.0</td>\n",
       "      <td>4</td>\n",
       "      <td>4.0</td>\n",
       "    </tr>\n",
       "    <tr>\n",
       "      <th>2</th>\n",
       "      <td>4.0</td>\n",
       "      <td>1</td>\n",
       "      <td>1.0</td>\n",
       "    </tr>\n",
       "    <tr>\n",
       "      <th>3</th>\n",
       "      <td>7.0</td>\n",
       "      <td>3</td>\n",
       "      <td>3.0</td>\n",
       "    </tr>\n",
       "    <tr>\n",
       "      <th>4</th>\n",
       "      <td>3.0</td>\n",
       "      <td>4</td>\n",
       "      <td>4.0</td>\n",
       "    </tr>\n",
       "  </tbody>\n",
       "</table>\n",
       "</div>"
      ],
      "text/plain": [
       "   Digit  Cluster  Correct\n",
       "0    6.0        0      0.0\n",
       "1    5.0        4      4.0\n",
       "2    4.0        1      1.0\n",
       "3    7.0        3      3.0\n",
       "4    3.0        4      4.0"
      ]
     },
     "execution_count": 19,
     "metadata": {},
     "output_type": "execute_result"
    }
   ],
   "source": [
    "get_all_correct_clusters(k_means_output).head()"
   ]
  },
  {
   "cell_type": "code",
   "execution_count": 20,
   "metadata": {},
   "outputs": [
    {
     "data": {
      "text/plain": [
       "array([5, 2, 6, 4, 1, 4, 0, 3, 9, 7])"
      ]
     },
     "execution_count": 20,
     "metadata": {},
     "output_type": "execute_result"
    }
   ],
   "source": [
    "get_all_clusters(k_means_output)"
   ]
  },
  {
   "cell_type": "markdown",
   "metadata": {},
   "source": [
    "## Calculating the accuracy for all (7291) observations"
   ]
  },
  {
   "cell_type": "code",
   "execution_count": 21,
   "metadata": {},
   "outputs": [
    {
     "data": {
      "text/plain": [
       "'5222 ; 0.7162254834727747'"
      ]
     },
     "execution_count": 21,
     "metadata": {},
     "output_type": "execute_result"
    }
   ],
   "source": [
    "get_accuracy(k_means_output)"
   ]
  },
  {
   "cell_type": "code",
   "execution_count": 22,
   "metadata": {},
   "outputs": [
    {
     "data": {
      "text/plain": [
       "'4060 ; 0.5568509120833904'"
      ]
     },
     "execution_count": 22,
     "metadata": {},
     "output_type": "execute_result"
    }
   ],
   "source": [
    "get_accuracy(gmm_output)"
   ]
  },
  {
   "cell_type": "markdown",
   "metadata": {},
   "source": [
    "To check the accuracy calculation, we created a random array of 7291 digit from 0-9."
   ]
  },
  {
   "cell_type": "code",
   "execution_count": 23,
   "metadata": {},
   "outputs": [
    {
     "name": "stdout",
     "output_type": "stream",
     "text": [
      "749\n"
     ]
    },
    {
     "data": {
      "text/plain": [
       "0.102729392401591"
      ]
     },
     "execution_count": 23,
     "metadata": {},
     "output_type": "execute_result"
    }
   ],
   "source": [
    "random = np.random.randint(10, size=7291)\n",
    "a = get_all_correct_clusters(k_means_output)['Cluster']\n",
    "acc = accuracy_score(a,random, normalize=False)\n",
    "acc_normalized= accuracy_score(a, random, normalize=True)\n",
    "print acc  ; acc_normalized"
   ]
  },
  {
   "cell_type": "markdown",
   "metadata": {},
   "source": [
    "## Confusion Matrix"
   ]
  },
  {
   "cell_type": "code",
   "execution_count": 24,
   "metadata": {},
   "outputs": [
    {
     "data": {
      "text/html": [
       "<div>\n",
       "<style scoped>\n",
       "    .dataframe tbody tr th:only-of-type {\n",
       "        vertical-align: middle;\n",
       "    }\n",
       "\n",
       "    .dataframe tbody tr th {\n",
       "        vertical-align: top;\n",
       "    }\n",
       "\n",
       "    .dataframe thead th {\n",
       "        text-align: right;\n",
       "    }\n",
       "</style>\n",
       "<table border=\"1\" class=\"dataframe\">\n",
       "  <thead>\n",
       "    <tr style=\"text-align: right;\">\n",
       "      <th></th>\n",
       "      <th>a</th>\n",
       "      <th>b</th>\n",
       "      <th>c</th>\n",
       "      <th>d</th>\n",
       "      <th>e</th>\n",
       "      <th>f</th>\n",
       "      <th>g</th>\n",
       "      <th>h</th>\n",
       "      <th>i</th>\n",
       "      <th>j</th>\n",
       "    </tr>\n",
       "  </thead>\n",
       "  <tbody>\n",
       "    <tr>\n",
       "      <th>0</th>\n",
       "      <td>14.838710</td>\n",
       "      <td>0.000000</td>\n",
       "      <td>0.903226</td>\n",
       "      <td>0.258065</td>\n",
       "      <td>0.774194</td>\n",
       "      <td>14.064516</td>\n",
       "      <td>68.774194</td>\n",
       "      <td>0.000000</td>\n",
       "      <td>0.387097</td>\n",
       "      <td>0.000000</td>\n",
       "    </tr>\n",
       "    <tr>\n",
       "      <th>1</th>\n",
       "      <td>1.517241</td>\n",
       "      <td>0.000000</td>\n",
       "      <td>6.482759</td>\n",
       "      <td>1.103448</td>\n",
       "      <td>61.379310</td>\n",
       "      <td>5.793103</td>\n",
       "      <td>1.931034</td>\n",
       "      <td>3.172414</td>\n",
       "      <td>1.379310</td>\n",
       "      <td>17.241379</td>\n",
       "    </tr>\n",
       "    <tr>\n",
       "      <th>2</th>\n",
       "      <td>0.000000</td>\n",
       "      <td>93.202980</td>\n",
       "      <td>0.279330</td>\n",
       "      <td>0.093110</td>\n",
       "      <td>3.817505</td>\n",
       "      <td>0.000000</td>\n",
       "      <td>0.837989</td>\n",
       "      <td>0.279330</td>\n",
       "      <td>1.024209</td>\n",
       "      <td>0.465549</td>\n",
       "    </tr>\n",
       "    <tr>\n",
       "      <th>3</th>\n",
       "      <td>0.000000</td>\n",
       "      <td>0.000000</td>\n",
       "      <td>2.448211</td>\n",
       "      <td>0.376648</td>\n",
       "      <td>0.941620</td>\n",
       "      <td>0.564972</td>\n",
       "      <td>0.000000</td>\n",
       "      <td>83.804143</td>\n",
       "      <td>0.376648</td>\n",
       "      <td>11.487759</td>\n",
       "    </tr>\n",
       "    <tr>\n",
       "      <th>4</th>\n",
       "      <td>1.628664</td>\n",
       "      <td>0.000000</td>\n",
       "      <td>3.691640</td>\n",
       "      <td>59.174810</td>\n",
       "      <td>0.000000</td>\n",
       "      <td>32.030402</td>\n",
       "      <td>0.000000</td>\n",
       "      <td>0.000000</td>\n",
       "      <td>3.257329</td>\n",
       "      <td>0.217155</td>\n",
       "    </tr>\n",
       "    <tr>\n",
       "      <th>5</th>\n",
       "      <td>89.115646</td>\n",
       "      <td>0.000000</td>\n",
       "      <td>0.510204</td>\n",
       "      <td>0.340136</td>\n",
       "      <td>0.000000</td>\n",
       "      <td>2.380952</td>\n",
       "      <td>7.312925</td>\n",
       "      <td>0.000000</td>\n",
       "      <td>0.340136</td>\n",
       "      <td>0.000000</td>\n",
       "    </tr>\n",
       "    <tr>\n",
       "      <th>6</th>\n",
       "      <td>0.933126</td>\n",
       "      <td>0.000000</td>\n",
       "      <td>86.469673</td>\n",
       "      <td>2.021773</td>\n",
       "      <td>1.866252</td>\n",
       "      <td>1.555210</td>\n",
       "      <td>5.287714</td>\n",
       "      <td>0.311042</td>\n",
       "      <td>1.555210</td>\n",
       "      <td>0.000000</td>\n",
       "    </tr>\n",
       "    <tr>\n",
       "      <th>7</th>\n",
       "      <td>0.000000</td>\n",
       "      <td>0.123153</td>\n",
       "      <td>1.108374</td>\n",
       "      <td>1.354680</td>\n",
       "      <td>16.871921</td>\n",
       "      <td>0.615764</td>\n",
       "      <td>0.123153</td>\n",
       "      <td>20.689655</td>\n",
       "      <td>4.433498</td>\n",
       "      <td>54.679803</td>\n",
       "    </tr>\n",
       "    <tr>\n",
       "      <th>8</th>\n",
       "      <td>90.685413</td>\n",
       "      <td>0.000000</td>\n",
       "      <td>2.108963</td>\n",
       "      <td>0.175747</td>\n",
       "      <td>0.175747</td>\n",
       "      <td>1.230228</td>\n",
       "      <td>4.920914</td>\n",
       "      <td>0.000000</td>\n",
       "      <td>0.702988</td>\n",
       "      <td>0.000000</td>\n",
       "    </tr>\n",
       "    <tr>\n",
       "      <th>9</th>\n",
       "      <td>1.071975</td>\n",
       "      <td>0.459418</td>\n",
       "      <td>7.197550</td>\n",
       "      <td>11.179173</td>\n",
       "      <td>0.765697</td>\n",
       "      <td>10.872894</td>\n",
       "      <td>0.306279</td>\n",
       "      <td>0.612557</td>\n",
       "      <td>66.462481</td>\n",
       "      <td>1.071975</td>\n",
       "    </tr>\n",
       "  </tbody>\n",
       "</table>\n",
       "</div>"
      ],
      "text/plain": [
       "           a          b          c          d          e          f  \\\n",
       "0  14.838710   0.000000   0.903226   0.258065   0.774194  14.064516   \n",
       "1   1.517241   0.000000   6.482759   1.103448  61.379310   5.793103   \n",
       "2   0.000000  93.202980   0.279330   0.093110   3.817505   0.000000   \n",
       "3   0.000000   0.000000   2.448211   0.376648   0.941620   0.564972   \n",
       "4   1.628664   0.000000   3.691640  59.174810   0.000000  32.030402   \n",
       "5  89.115646   0.000000   0.510204   0.340136   0.000000   2.380952   \n",
       "6   0.933126   0.000000  86.469673   2.021773   1.866252   1.555210   \n",
       "7   0.000000   0.123153   1.108374   1.354680  16.871921   0.615764   \n",
       "8  90.685413   0.000000   2.108963   0.175747   0.175747   1.230228   \n",
       "9   1.071975   0.459418   7.197550  11.179173   0.765697  10.872894   \n",
       "\n",
       "           g          h          i          j  \n",
       "0  68.774194   0.000000   0.387097   0.000000  \n",
       "1   1.931034   3.172414   1.379310  17.241379  \n",
       "2   0.837989   0.279330   1.024209   0.465549  \n",
       "3   0.000000  83.804143   0.376648  11.487759  \n",
       "4   0.000000   0.000000   3.257329   0.217155  \n",
       "5   7.312925   0.000000   0.340136   0.000000  \n",
       "6   5.287714   0.311042   1.555210   0.000000  \n",
       "7   0.123153  20.689655   4.433498  54.679803  \n",
       "8   4.920914   0.000000   0.702988   0.000000  \n",
       "9   0.306279   0.612557  66.462481   1.071975  "
      ]
     },
     "execution_count": 24,
     "metadata": {},
     "output_type": "execute_result"
    }
   ],
   "source": [
    "bar_data =pd.DataFrame(np.zeros((10,10)))\n",
    "\n",
    "for digit in range(0,10):\n",
    "    dwd = data_with_digit[data_with_digit[0] == digit].groupby('Label').count()[0]\n",
    "    cluster_keys = dwd.keys()\n",
    "    for cluster_idx in cluster_keys:\n",
    "        bar_data[digit][cluster_idx] = dwd[cluster_idx]\n",
    "        \n",
    "# Percentage of cluster assignment\n",
    "bar_data1 = pd.DataFrame(bar_data)\n",
    "\n",
    "bar_data1.columns=['a','b','c','d','e','f','g','h','i','j']\n",
    "\n",
    "rel_den = pd.DataFrame(np.zeros((10,10)))\n",
    "\n",
    "for j in range(0,10):\n",
    "    for i in range(0,10):\n",
    "        rel_den.iloc[i,j] = bar_data1.iloc[i,j]/bar_data1.iloc[i].sum()*100\n",
    "\n",
    "rel_den.columns=['a','b','c','d','e','f','g','h','i','j']\n",
    "rel_den"
   ]
  },
  {
   "cell_type": "code",
   "execution_count": 25,
   "metadata": {},
   "outputs": [
    {
     "data": {
      "image/png": "[encoded data removed]",
      "text/plain": [
       "<Figure size 432x288 with 2 Axes>"
      ]
     },
     "metadata": {},
     "output_type": "display_data"
    }
   ],
   "source": [
    "ax = sns.heatmap(rel_den, annot=True, annot_kws={\"size\": 12}, cmap=\"Blues\")\n",
    "ax.set_xlabel('predicted label', labelpad=8)\n",
    "ax.set_ylabel('true label', labelpad=8)\n",
    "ax.set_title('Confusion Matrix');\n",
    "plt.show()"
   ]
  },
  {
   "cell_type": "code",
   "execution_count": null,
   "metadata": {},
   "outputs": [],
   "source": []
  }
 ],
 "metadata": {
  "kernelspec": {
   "display_name": "Python 2",
   "language": "python",
   "name": "python2"
  },
  "language_info": {
   "codemirror_mode": {
    "name": "ipython",
    "version": 2
   },
   "file_extension": ".py",
   "mimetype": "text/x-python",
   "name": "python",
   "nbconvert_exporter": "python",
   "pygments_lexer": "ipython2",
   "version": "2.7.15"
  }
 },
 "nbformat": 4,
 "nbformat_minor": 2
}
