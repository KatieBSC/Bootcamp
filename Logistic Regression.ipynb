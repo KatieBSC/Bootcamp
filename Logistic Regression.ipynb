{
 "cells": [
  {
   "cell_type": "markdown",
   "metadata": {},
   "source": [
    "## Digit recognition: Logistic Regression"
   ]
  },
  {
   "cell_type": "markdown",
   "metadata": {},
   "source": [
    "**Strategy:** First classify digits individually (binary classifier). Then multivariate logistic regression.<br/>\n",
    "**Measurement:** Accuracy score and negative log loss\n",
    "    "
   ]
  },
  {
   "cell_type": "code",
   "execution_count": 1,
   "metadata": {},
   "outputs": [],
   "source": [
    "import pandas as pd\n",
    "import numpy as np\n",
    "import matplotlib.pyplot as plt\n",
    "#import matplotlib.gridspec as gridspec\n",
    "import seaborn as sns\n",
    "from sklearn.linear_model import LogisticRegression\n",
    "from sklearn import datasets, metrics\n",
    "from sklearn.metrics import confusion_matrix,accuracy_score,log_loss\n",
    "import statsmodels.api as sm\n",
    "from sklearn.model_selection import train_test_split,cross_val_score, GridSearchCV"
   ]
  },
  {
   "cell_type": "markdown",
   "metadata": {},
   "source": [
    "**Get the data**"
   ]
  },
  {
   "cell_type": "code",
   "execution_count": 2,
   "metadata": {},
   "outputs": [],
   "source": [
    "raw_training_data = pd.read_csv(\"data/zip.train\", header=None , sep=\" \")\n",
    "test_data = pd.read_csv(\"data/zip.test\", header=None , sep=\" \")"
   ]
  },
  {
   "cell_type": "markdown",
   "metadata": {},
   "source": [
    "**Functions for removing NaN and rename target column**"
   ]
  },
  {
   "cell_type": "code",
   "execution_count": 3,
   "metadata": {},
   "outputs": [],
   "source": [
    "def remove_nan (df):\n",
    "    return df.dropna(axis=1, how='any',thresh=None)\n",
    "\n",
    "def rename_labels (df):\n",
    "    return df.rename(columns={0:'Labels'}, inplace=True)"
   ]
  },
  {
   "cell_type": "markdown",
   "metadata": {},
   "source": [
    "**Clean data with the help of above functions**"
   ]
  },
  {
   "cell_type": "code",
   "execution_count": 4,
   "metadata": {},
   "outputs": [],
   "source": [
    "rename_labels(raw_training_data)\n",
    "training_data = remove_nan(raw_training_data) # Give the training data a new, better name\n",
    "\n",
    "rename_labels(test_data) # There are no NaN values in the test set"
   ]
  },
  {
   "cell_type": "markdown",
   "metadata": {},
   "source": [
    "**Reserve some training data for fine tuning**"
   ]
  },
  {
   "cell_type": "code",
   "execution_count": 5,
   "metadata": {},
   "outputs": [],
   "source": [
    "training_data, extra_training_data = train_test_split(training_data, test_size=0.05, random_state=11)\n"
   ]
  },
  {
   "cell_type": "markdown",
   "metadata": {},
   "source": [
    "**Eyeball the digit distribution among data sets**"
   ]
  },
  {
   "cell_type": "code",
   "execution_count": 6,
   "metadata": {},
   "outputs": [
    {
     "data": {
      "image/png": "[encoded data removed]",
      "text/plain": [
       "<Figure size 432x288 with 3 Axes>"
      ]
     },
     "metadata": {},
     "output_type": "display_data"
    }
   ],
   "source": [
    "traincount = pd.value_counts(training_data['Labels'].values, sort=True)\n",
    "extracount = pd.value_counts(extra_training_data['Labels'].values,sort=True)\n",
    "testcount = pd.value_counts(test_data['Labels'].values, sort=True)\n",
    "\n",
    "f,(ax1,ax2,ax3) = plt.subplots(3,constrained_layout=True)\n",
    "sns.barplot(traincount.index, traincount.values, alpha=0.8,ax=ax1)\n",
    "sns.barplot(testcount.index, testcount.values, alpha=0.8,ax=ax2)\n",
    "sns.barplot(extracount.index, extracount.values, alpha=0.8,ax=ax3)\n",
    "ax1.set_title('Training data')\n",
    "ax2.set_title('Test data')\n",
    "ax3.set_title('Additional training data')\n",
    "plt.show()"
   ]
  },
  {
   "cell_type": "markdown",
   "metadata": {},
   "source": [
    "**Functions to manipulate the dataframe**"
   ]
  },
  {
   "cell_type": "code",
   "execution_count": 7,
   "metadata": {},
   "outputs": [],
   "source": [
    "def remove_labels(df):\n",
    "    return df.drop('Labels',axis=1)\n",
    "        \n",
    "def get_labels(df):\n",
    "    return pd.DataFrame(df['Labels'])\n",
    "\n",
    "def get_digit (df,digit):\n",
    "    return df.loc[df['Labels']== digit]\n",
    "\n",
    "def not_digit (df,digit):\n",
    "    return df.loc[df['Labels']!= digit]"
   ]
  },
  {
   "cell_type": "code",
   "execution_count": null,
   "metadata": {},
   "outputs": [],
   "source": []
  },
  {
   "cell_type": "code",
   "execution_count": null,
   "metadata": {},
   "outputs": [],
   "source": []
  },
  {
   "cell_type": "markdown",
   "metadata": {},
   "source": [
    "**Function(s) to manipulate data for logistic regression classification**"
   ]
  },
  {
   "cell_type": "code",
   "execution_count": 8,
   "metadata": {},
   "outputs": [],
   "source": [
    "def get_classified (df,digit):\n",
    "    df.loc[df.Labels == digit, 'Labels'] = \"True\"\n",
    "    df.loc[df.Labels != 'True', 'Labels'] = 0\n",
    "    df.loc[df.Labels != 0, 'Labels'] = 1\n",
    "    return df['Labels']\n",
    "\n"
   ]
  },
  {
   "cell_type": "markdown",
   "metadata": {},
   "source": [
    "**Cost function(s)**"
   ]
  },
  {
   "cell_type": "code",
   "execution_count": 9,
   "metadata": {},
   "outputs": [],
   "source": [
    "def get_accuracy(prediction,label):\n",
    "    return accuracy_score(prediction,label,normalize=True)\n"
   ]
  },
  {
   "cell_type": "markdown",
   "metadata": {},
   "source": [
    "**Organize training data into digit and not-digit (input and targets)**"
   ]
  },
  {
   "cell_type": "code",
   "execution_count": 10,
   "metadata": {},
   "outputs": [],
   "source": [
    "train_img = remove_labels(training_data)\n",
    "train_label = get_labels(training_data)\n",
    "extra_img = remove_labels(extra_training_data)\n",
    "extra_label = get_labels(extra_training_data)"
   ]
  },
  {
   "cell_type": "code",
   "execution_count": 11,
   "metadata": {},
   "outputs": [],
   "source": [
    "logisticRegr = LogisticRegression(solver = 'lbfgs')"
   ]
  },
  {
   "cell_type": "code",
   "execution_count": 27,
   "metadata": {},
   "outputs": [
    {
     "name": "stderr",
     "output_type": "stream",
     "text": [
      "/anaconda2/lib/python2.7/site-packages/sklearn/utils/validation.py:578: DataConversionWarning: A column-vector y was passed when a 1d array was expected. Please change the shape of y to (n_samples, ), for example using ravel().\n",
      "  y = column_or_1d(y, warn=True)\n"
     ]
    },
    {
     "data": {
      "text/plain": [
       "LogisticRegression(C=1.0, class_weight=None, dual=False, fit_intercept=True,\n",
       "          intercept_scaling=1, max_iter=100, multi_class='ovr', n_jobs=1,\n",
       "          penalty='l2', random_state=None, solver='lbfgs', tol=0.0001,\n",
       "          verbose=0, warm_start=False)"
      ]
     },
     "execution_count": 27,
     "metadata": {},
     "output_type": "execute_result"
    }
   ],
   "source": [
    "logisticRegr.fit(train_img, train_label)"
   ]
  },
  {
   "cell_type": "code",
   "execution_count": 30,
   "metadata": {},
   "outputs": [],
   "source": [
    "predictions = logisticRegr.predict(X=extra_img)"
   ]
  },
  {
   "cell_type": "code",
   "execution_count": 31,
   "metadata": {},
   "outputs": [],
   "source": [
    "score = logisticRegr.score(extra_img, extra_label)"
   ]
  },
  {
   "cell_type": "code",
   "execution_count": 32,
   "metadata": {},
   "outputs": [
    {
     "data": {
      "text/plain": [
       "0.9315068493150684"
      ]
     },
     "execution_count": 32,
     "metadata": {},
     "output_type": "execute_result"
    }
   ],
   "source": [
    "score"
   ]
  },
  {
   "cell_type": "markdown",
   "metadata": {},
   "source": [
    "## Logistic regression for each digit"
   ]
  },
  {
   "cell_type": "code",
   "execution_count": 33,
   "metadata": {},
   "outputs": [],
   "source": [
    "zero_train = get_classified(get_labels(training_data),0)"
   ]
  },
  {
   "cell_type": "code",
   "execution_count": 43,
   "metadata": {},
   "outputs": [],
   "source": [
    "train_img = remove_labels(training_data)\n",
    "train_label = get_labels(training_data)['Labels']"
   ]
  },
  {
   "cell_type": "code",
   "execution_count": null,
   "metadata": {},
   "outputs": [],
   "source": [
    "def ()"
   ]
  },
  {
   "cell_type": "code",
   "execution_count": null,
   "metadata": {},
   "outputs": [],
   "source": []
  },
  {
   "cell_type": "code",
   "execution_count": 69,
   "metadata": {},
   "outputs": [
    {
     "name": "stdout",
     "output_type": "stream",
     "text": [
      "0    307\n",
      "1     58\n",
      "dtype: int64\n",
      "0    316\n",
      "1     49\n",
      "dtype: int64\n",
      "0    325\n",
      "1     40\n",
      "dtype: int64\n",
      "0    331\n",
      "1     34\n",
      "dtype: int64\n",
      "0    329\n",
      "1     36\n",
      "dtype: int64\n",
      "0    338\n",
      "1     27\n",
      "dtype: int64\n",
      "0    335\n",
      "1     30\n",
      "dtype: int64\n",
      "0    333\n",
      "1     32\n",
      "dtype: int64\n",
      "0    331\n",
      "1     34\n",
      "dtype: int64\n"
     ]
    }
   ],
   "source": [
    "def train_predict(digit):\n",
    "    y_values = get_classified(get_labels(training_data),digit)\n",
    "    logreg = LogisticRegression()\n",
    "    logreg.fit(train_img,y_values)\n",
    "    return logreg.predict(extra_img)\n",
    "\n",
    "for i in range (0,9):\n",
    "    print pd.value_counts(train_predict(i))\n",
    "#print pd.value_counts(train_predict(1))\n",
    "#print pd.value_counts(train_predict(2))\n",
    "#print pd.value_counts(train_predict(3))\n",
    "#print pd.value_counts(train_predict(4))\n",
    "#print pd.value_counts(train_predict(5))\n",
    "#print pd.value_counts(train_predict(6))\n",
    "#print pd.value_counts(train_predict(7))\n",
    "#print pd.value_counts(train_predict(8))\n",
    "#print pd.value_counts(train_predict(9))"
   ]
  },
  {
   "cell_type": "code",
   "execution_count": 74,
   "metadata": {},
   "outputs": [
    {
     "data": {
      "text/plain": [
       "0.0    56\n",
       "1.0    51\n",
       "2.0    40\n",
       "4.0    35\n",
       "6.0    33\n",
       "3.0    33\n",
       "7.0    30\n",
       "8.0    30\n",
       "9.0    30\n",
       "5.0    27\n",
       "dtype: int64"
      ]
     },
     "execution_count": 74,
     "metadata": {},
     "output_type": "execute_result"
    }
   ],
   "source": [
    "pd.value_counts(extra_training_data['Labels'].values)"
   ]
  },
  {
   "cell_type": "code",
   "execution_count": null,
   "metadata": {},
   "outputs": [],
   "source": []
  },
  {
   "cell_type": "code",
   "execution_count": null,
   "metadata": {},
   "outputs": [],
   "source": []
  },
  {
   "cell_type": "markdown",
   "metadata": {},
   "source": [
    "**Make an instance of the model**"
   ]
  },
  {
   "cell_type": "code",
   "execution_count": null,
   "metadata": {},
   "outputs": [],
   "source": []
  },
  {
   "cell_type": "code",
   "execution_count": null,
   "metadata": {},
   "outputs": [],
   "source": [
    "logreg = LogisticRegression()"
   ]
  },
  {
   "cell_type": "markdown",
   "metadata": {},
   "source": [
    "**Train the Logistic Regression model**"
   ]
  },
  {
   "cell_type": "code",
   "execution_count": null,
   "metadata": {},
   "outputs": [],
   "source": [
    "logreg.fit(X_train,zero_train)"
   ]
  },
  {
   "cell_type": "code",
   "execution_count": null,
   "metadata": {},
   "outputs": [],
   "source": [
    "zero_predict = logreg.predict(X_train[0:10])\n",
    "print (zero_predict)\n",
    "print (get_labels(training_data[0:10]))"
   ]
  },
  {
   "cell_type": "markdown",
   "metadata": {},
   "source": [
    "Yup, that did it all right. The vector at index 8 represents a zero, all others are not zero."
   ]
  },
  {
   "cell_type": "code",
   "execution_count": null,
   "metadata": {},
   "outputs": [],
   "source": []
  }
 ],
 "metadata": {
  "kernelspec": {
   "display_name": "Python 2",
   "language": "python",
   "name": "python2"
  },
  "language_info": {
   "codemirror_mode": {
    "name": "ipython",
    "version": 2
   },
   "file_extension": ".py",
   "mimetype": "text/x-python",
   "name": "python",
   "nbconvert_exporter": "python",
   "pygments_lexer": "ipython2",
   "version": "2.7.15"
  }
 },
 "nbformat": 4,
 "nbformat_minor": 2
}
