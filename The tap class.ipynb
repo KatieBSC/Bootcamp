{
 "cells": [
  {
   "cell_type": "markdown",
   "metadata": {},
   "source": [
    "## Tap (dance) classes"
   ]
  },
  {
   "cell_type": "markdown",
   "metadata": {},
   "source": [
    "**Class:** Song(self, artist_name, time_min, time_sec, signature_over4, bpm, style)"
   ]
  },
  {
   "cell_type": "code",
   "execution_count": 8,
   "metadata": {},
   "outputs": [],
   "source": [
    "import pandas as pd\n",
    "import numpy as np"
   ]
  },
  {
   "cell_type": "code",
   "execution_count": 9,
   "metadata": {},
   "outputs": [],
   "source": [
    "class Song :\n",
    "    def __init__(self, artist_name, time_min, time_sec, signature_over4, bpm, style) :\n",
    "        self.artist_name = artist_name\n",
    "        self.time_min = time_min\n",
    "        self.time_sec = time_sec\n",
    "        self.signature = signature_over4\n",
    "        self.bpm = bpm\n",
    "        self.style = style\n",
    "          \n",
    "    def get_signature(self) :\n",
    "        return str(self.signature) + \" / 4\"\n",
    "    \n",
    "    def get_time (self) :\n",
    "        return (str(self.time_min) + \":\" + str(self.time_sec))\n",
    "    \n",
    "    def get_measures (self) : \n",
    "        return int((self.bpm * (self.time_min + ((float(self.time_sec)) / 60)))/self.signature)\n",
    "    \n",
    "    def get_8_measures (self) :\n",
    "        return int(self.get_measures()/8)"
   ]
  },
  {
   "cell_type": "markdown",
   "metadata": {},
   "source": [
    "**Class:** Choreo(self, combination, signature_over4, style)"
   ]
  },
  {
   "cell_type": "code",
   "execution_count": 10,
   "metadata": {},
   "outputs": [],
   "source": [
    "class Choreo :\n",
    "    def __init__(self, combination, signature_over4, style) :\n",
    "        self.combination = combination\n",
    "        self.signature = signature_over4\n",
    "        self.style = style\n",
    "        \n",
    "    def get_measures (self) :\n",
    "        return (sum (tap_dict[step] for step in self.combination)) / self.signature\n",
    "    \n",
    "    def whats_left_measures (self, Song) :\n",
    "        return (int(Song.get_measures()) - self.get_measures())\n",
    "    \n",
    "    def whats_left_time (self, Song) :\n",
    "        seconds_left = int(((self.whats_left_measures(Song) * Song.signature) / float(Song.bpm))*60)\n",
    "        return str(int(seconds_left/60)) + \":\" + str(int(seconds_left%60))"
   ]
  },
  {
   "cell_type": "code",
   "execution_count": null,
   "metadata": {},
   "outputs": [],
   "source": []
  },
  {
   "cell_type": "code",
   "execution_count": null,
   "metadata": {},
   "outputs": [],
   "source": []
  },
  {
   "cell_type": "markdown",
   "metadata": {},
   "source": [
    "**Objects and Dictionaries**"
   ]
  },
  {
   "cell_type": "markdown",
   "metadata": {},
   "source": [
    "Combinations require (tapsteps as a list of strings, signature_over4, style) "
   ]
  },
  {
   "cell_type": "code",
   "execution_count": 7,
   "metadata": {},
   "outputs": [
    {
     "data": {
      "text/html": [
       "<div>\n",
       "<style scoped>\n",
       "    .dataframe tbody tr th:only-of-type {\n",
       "        vertical-align: middle;\n",
       "    }\n",
       "\n",
       "    .dataframe tbody tr th {\n",
       "        vertical-align: top;\n",
       "    }\n",
       "\n",
       "    .dataframe thead th {\n",
       "        text-align: right;\n",
       "    }\n",
       "</style>\n",
       "<table border=\"1\" class=\"dataframe\">\n",
       "  <thead>\n",
       "    <tr style=\"text-align: right;\">\n",
       "      <th></th>\n",
       "      <th>0</th>\n",
       "    </tr>\n",
       "  </thead>\n",
       "  <tbody>\n",
       "    <tr>\n",
       "      <th>0</th>\n",
       "      <td>pause</td>\n",
       "    </tr>\n",
       "    <tr>\n",
       "      <th>1</th>\n",
       "      <td>shuffle</td>\n",
       "    </tr>\n",
       "    <tr>\n",
       "      <th>2</th>\n",
       "      <td>ballchange</td>\n",
       "    </tr>\n",
       "    <tr>\n",
       "      <th>3</th>\n",
       "      <td>flap</td>\n",
       "    </tr>\n",
       "    <tr>\n",
       "      <th>4</th>\n",
       "      <td>heel</td>\n",
       "    </tr>\n",
       "  </tbody>\n",
       "</table>\n",
       "</div>"
      ],
      "text/plain": [
       "            0\n",
       "0       pause\n",
       "1     shuffle\n",
       "2  ballchange\n",
       "3        flap\n",
       "4        heel"
      ]
     },
     "execution_count": 7,
     "metadata": {},
     "output_type": "execute_result"
    }
   ],
   "source": [
    "A = Choreo(['shuffle','ballchange','flap','heel','pause'],4,None)\n",
    "B = Choreo(['shuffle', 'ballchange','shuffle', 'ballchange','flap','brush','step','heel','stomp','pause'],4,'swing')\n",
    "AAB = Choreo(A.combination*2+B.combination,4,None)\n",
    "a = np.ndarray(['pause','shuffle','ballchange','flap','heel'])\n",
    "a \n"
   ]
  },
  {
   "cell_type": "markdown",
   "metadata": {},
   "source": [
    "Songs require (artist_name, time_min, time_sec, signature_over4, bpm, style)"
   ]
  },
  {
   "cell_type": "code",
   "execution_count": null,
   "metadata": {},
   "outputs": [],
   "source": [
    "wala_cam = Song(\"Chance the Rapper\",3,36,4,85,\"steady\")\n",
    "humble = Song(\"Kendrick Lamar\",2,57,4,150,\"steady\")\n",
    "tuxedo_junction = Song(\"Glenn Miller\",3,28,4,114,\"swing\")\n"
   ]
  },
  {
   "cell_type": "markdown",
   "metadata": {},
   "source": [
    "Create a dictionary of {\"tapsteps\": beats}"
   ]
  },
  {
   "cell_type": "code",
   "execution_count": null,
   "metadata": {},
   "outputs": [],
   "source": [
    "tap_dict = {}\n",
    "\n",
    "tap_dict['step'] = 1\n",
    "tap_dict['pause'] = 1\n",
    "tap_dict['stomp'] = 1\n",
    "tap_dict['touch'] = 1\n",
    "tap_dict['brush'] = 1\n",
    "tap_dict['heel'] = 1\n",
    "tap_dict['stamp'] = 1\n",
    "tap_dict['flap'] = 2\n",
    "tap_dict['ballchange'] = 2\n",
    "tap_dict['shuffle'] = 2\n",
    "tap_dict['drawback'] = 3\n",
    "tap_dict['riff'] = 3\n",
    "tap_dict['4riff'] = 4\n",
    "tap_dict['5riff'] = 5\n"
   ]
  },
  {
   "cell_type": "code",
   "execution_count": null,
   "metadata": {},
   "outputs": [],
   "source": []
  },
  {
   "cell_type": "code",
   "execution_count": null,
   "metadata": {},
   "outputs": [],
   "source": []
  },
  {
   "cell_type": "code",
   "execution_count": null,
   "metadata": {},
   "outputs": [],
   "source": []
  },
  {
   "cell_type": "code",
   "execution_count": null,
   "metadata": {},
   "outputs": [],
   "source": []
  },
  {
   "cell_type": "code",
   "execution_count": null,
   "metadata": {},
   "outputs": [],
   "source": []
  },
  {
   "cell_type": "code",
   "execution_count": null,
   "metadata": {},
   "outputs": [],
   "source": []
  },
  {
   "cell_type": "markdown",
   "metadata": {},
   "source": [
    " **Just to save**"
   ]
  },
  {
   "cell_type": "code",
   "execution_count": null,
   "metadata": {},
   "outputs": [],
   "source": [
    "#array([14, 35, 14, 44, 19, 40, 42, 44, 47, 48])"
   ]
  },
  {
   "cell_type": "code",
   "execution_count": null,
   "metadata": {},
   "outputs": [],
   "source": [
    "#array([ 6, 26, 36,  3,  9,  2, 38, 49, 20, 25])"
   ]
  }
 ],
 "metadata": {
  "kernelspec": {
   "display_name": "Python 2",
   "language": "python",
   "name": "python2"
  },
  "language_info": {
   "codemirror_mode": {
    "name": "ipython",
    "version": 2
   },
   "file_extension": ".py",
   "mimetype": "text/x-python",
   "name": "python",
   "nbconvert_exporter": "python",
   "pygments_lexer": "ipython2",
   "version": "2.7.15"
  }
 },
 "nbformat": 4,
 "nbformat_minor": 2
}
