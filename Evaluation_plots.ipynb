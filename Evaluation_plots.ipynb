{
 "cells": [
  {
   "cell_type": "code",
   "execution_count": null,
   "metadata": {},
   "outputs": [],
   "source": []
  },
  {
   "cell_type": "code",
   "execution_count": 71,
   "metadata": {},
   "outputs": [],
   "source": [
    "import numpy as np\n",
    "import pandas as pd\n",
    "from sklearn.preprocessing import OneHotEncoder\n",
    "from sklearn.model_selection import train_test_split,cross_val_score\n",
    "from sklearn.tree import DecisionTreeRegressor\n",
    "from sklearn.ensemble import RandomForestRegressor\n",
    "from sklearn.metrics import mean_squared_error,log_loss, classification_report\n"
   ]
  },
  {
   "cell_type": "code",
   "execution_count": 2,
   "metadata": {},
   "outputs": [],
   "source": [
    "housing_data = pd.read_csv(\"housing.csv\")"
   ]
  },
  {
   "cell_type": "code",
   "execution_count": 3,
   "metadata": {},
   "outputs": [],
   "source": [
    "housing_data['total_bedrooms'] = housing_data['total_bedrooms'].fillna((housing_data['total_bedrooms'].sum())/len(housing_data['total_bedrooms']))\n",
    "\n",
    "\n",
    "housing_data = housing_data[housing_data['median_house_value'] < (housing_data['median_house_value'].max())]\n"
   ]
  },
  {
   "cell_type": "code",
   "execution_count": 4,
   "metadata": {},
   "outputs": [],
   "source": [
    "housing_cat = housing_data['ocean_proximity']\n",
    "housing_cat_encoded,housing_categories = housing_cat.factorize()\n",
    "encoder = OneHotEncoder()\n",
    "housing_cat_1hot = encoder.fit_transform(housing_cat_encoded.reshape(-1,1))\n",
    "housing_cat_1hot = housing_cat_1hot.toarray()\n",
    "ocean_proximity_cat_1hot = pd.DataFrame(housing_cat_1hot)\n",
    "ocean_proximity_cat_1hot = ocean_proximity_cat_1hot.rename(columns=\n",
    "                            {0: 'NEAR BAY', 1: '<1H OCEAN', 2:'INLAND', 3:'NEAR OCEAN', 4:'ISLAND'})\n",
    "housing_data = housing_data.reset_index(drop=True)\n",
    "housing_data = pd.concat([housing_data, ocean_proximity_cat_1hot], axis=1, sort=False)\n",
    "housing_data = housing_data.drop('ocean_proximity',axis=1)\n"
   ]
  },
  {
   "cell_type": "code",
   "execution_count": 7,
   "metadata": {},
   "outputs": [],
   "source": [
    "housing_train, housing_test = train_test_split(housing_data, test_size=0.33, random_state=11)\n"
   ]
  },
  {
   "cell_type": "code",
   "execution_count": null,
   "metadata": {},
   "outputs": [],
   "source": [
    "\n",
    "        \n",
    "    "
   ]
  },
  {
   "cell_type": "code",
   "execution_count": null,
   "metadata": {},
   "outputs": [],
   "source": []
  },
  {
   "cell_type": "code",
   "execution_count": null,
   "metadata": {},
   "outputs": [],
   "source": []
  },
  {
   "cell_type": "markdown",
   "metadata": {},
   "source": [
    "## To implement in PyCharm: \n",
    "Functions are done"
   ]
  },
  {
   "cell_type": "code",
   "execution_count": 8,
   "metadata": {},
   "outputs": [],
   "source": [
    "def plot_errors (max_depth,X_train,y_train,X_test,y_test):\n",
    "    train_results = []\n",
    "    test_results = []\n",
    "    df = pd.DataFrame()\n",
    "    for i in range (1,max_depth):\n",
    "    \n",
    "    # What is the initialize, fit & predict function like? Can I reference it here?  \n",
    "    # I need to be able to iterate over a range of depths\n",
    "        clf = DecisionTreeRegressor(max_depth=i)\n",
    "        pred_train = clf.fit(X_train,y_train.values.ravel()).predict(X_train)\n",
    "        pred_test = clf.fit(X_train,y_train.values.ravel()).predict(X_test)\n",
    "    \n",
    "    # I need predictions on a train and test/validate test\n",
    "        rmse_train,rmse_test = np.sqrt(mean_squared_error(y_train,pred_train)),np.sqrt(mean_squared_error(y_test,pred_test))\n",
    "        train_results.append(rmse_train)\n",
    "        test_results.append(rmse_test)\n",
    "    df['Train'],df['Test'] = (train_results), (test_results)\n",
    "    #return df.plot();\n",
    "    return df   \n",
    "\n",
    "    \n",
    "def plot_forest_errors (max_depth,X_train,y_train,X_test,y_test):\n",
    "    train_results = []\n",
    "    test_results = []\n",
    "    df = pd.DataFrame()\n",
    "    for i in range (1,max_depth):\n",
    "    \n",
    "    # What is the initialize, fit & predict function like? Can I reference it here?  \n",
    "    # I need to be able to iterate over a range of depths\n",
    "        rfr = RandomForestRegressor(max_depth=i)\n",
    "        pred_train = rfr.fit(X_train,y_train.values.ravel()).predict(X_train)\n",
    "        pred_test = rfr.fit(X_train,y_train.values.ravel()).predict(X_test)\n",
    "    \n",
    "    # I need predictions on a train and test/validate test\n",
    "        rmse_train,rmse_test = np.sqrt(mean_squared_error(y_train,pred_train)),np.sqrt(mean_squared_error(y_test,pred_test))\n",
    "        train_results.append(rmse_train)\n",
    "        test_results.append(rmse_test)\n",
    "    df['Train'],df['Test'] = (train_results), (test_results)\n",
    "    #return df.plot();\n",
    "    return df\n",
    "\n"
   ]
  },
  {
   "cell_type": "code",
   "execution_count": 59,
   "metadata": {},
   "outputs": [],
   "source": [
    "import numpy as np\n",
    "from sklearn.metrics import mean_squared_error, r2_score\n",
    "\n",
    "\n",
    "def print_errors(test, predicted):\n",
    "    print(\"MSE: \", mean_squared_error(test, predicted))\n",
    "    print(\"RMSE: \", np.sqrt(mean_squared_error(test, predicted)))\n",
    "    print(\"R2: \", r2_score(test, predicted))\n",
    "    print(\"RMSE % of mean:\", (np.sqrt(mean_squared_error(test, predicted))) / (test.values.mean()))\n",
    "    print(\"Calibration:\", predicted.mean() / test.values.mean())\n",
    "\n",
    "    \n"
   ]
  },
  {
   "cell_type": "code",
   "execution_count": 75,
   "metadata": {},
   "outputs": [],
   "source": [
    "def get_errors(model_type,test, predicted):\n",
    "    if model_type == 'regression':\n",
    "        print(\"MSE: \", mean_squared_error(test, predicted))\n",
    "        print(\"RMSE: \", np.sqrt(mean_squared_error(test, predicted)))\n",
    "        print(\"R2: \", r2_score(test, predicted))\n",
    "    if model_type == 'classification':\n",
    "        print(\"Log loss: \", log_loss(test, predicted))\n",
    "        print(classification_report(test,predicted))\n",
    "\n"
   ]
  },
  {
   "cell_type": "markdown",
   "metadata": {},
   "source": [
    "## Still needs to be implemented: "
   ]
  },
  {
   "cell_type": "code",
   "execution_count": 60,
   "metadata": {},
   "outputs": [],
   "source": [
    "X = housing_train[['latitude','longitude']]\n",
    "y = housing_train[['median_house_value']]\n",
    "X_t = housing_test[['latitude','longitude']]\n",
    "y_t = housing_test[['median_house_value']]\n",
    "\n"
   ]
  },
  {
   "cell_type": "code",
   "execution_count": 61,
   "metadata": {},
   "outputs": [],
   "source": [
    "# Test for multiple plots\n",
    "\n",
    "a = plot_errors(30,X,y,X_t,y_t)\n",
    "b = plot_forest_errors(30,X,y,X_t,y_t)\n",
    "c = pd.concat([a,b],axis=1)"
   ]
  },
  {
   "cell_type": "code",
   "execution_count": 62,
   "metadata": {},
   "outputs": [
    {
     "data": {
      "image/png": "[encoded data removed]",
      "text/plain": [
       "<Figure size 864x576 with 1 Axes>"
      ]
     },
     "metadata": {},
     "output_type": "display_data"
    }
   ],
   "source": [
    "c.columns = ['Train_t','Test_t','Train_f','Test_f']\n",
    "ax=c.plot(figsize=(12,8),title='Overfitting: Tree and Forest')\n",
    "ax.set(xlabel=\"max_depth\", ylabel=\"Error (RMSE)\");\n"
   ]
  },
  {
   "cell_type": "code",
   "execution_count": 63,
   "metadata": {},
   "outputs": [
    {
     "data": {
      "image/png": "[encoded data removed]",
      "text/plain": [
       "<Figure size 864x576 with 1 Axes>"
      ]
     },
     "metadata": {},
     "output_type": "display_data"
    }
   ],
   "source": [
    "c.columns = ['Train_t','Test_t','Train_f','Test_f']\n",
    "ax = c.plot(figsize=(12,8),xlim=(0,20),ylim=(2,100000),title='Overfitting: Tree and Forest')\n",
    "ax.set(xlabel=\"max_depth\", ylabel=\"Error (RMSE)\");\n",
    "\n"
   ]
  },
  {
   "cell_type": "code",
   "execution_count": 64,
   "metadata": {},
   "outputs": [
    {
     "name": "stdout",
     "output_type": "stream",
     "text": [
      "MSE:  4857280662.107652\n",
      "RMSE:  69694.19389093794\n",
      "R2:  0.48819329169660974\n",
      "\n",
      "MSE:  4962242352.823213\n",
      "RMSE:  70443.18528305781\n",
      "R2:  0.48640831185013056\n"
     ]
    }
   ],
   "source": [
    "plot_errors(20,X,y,X_t,y_t)\n",
    "\n",
    "\n",
    "clf = DecisionTreeRegressor(max_depth=6)\n",
    "pred_train,pred_test = clf.fit(X,y).predict(X),clf.fit(X,y).predict(X_t)\n",
    "\n",
    "\n",
    "print_errors(y, pred_train)\n",
    "print('')\n",
    "print_errors(y_t, pred_test)"
   ]
  },
  {
   "cell_type": "code",
   "execution_count": null,
   "metadata": {},
   "outputs": [],
   "source": []
  },
  {
   "cell_type": "code",
   "execution_count": 65,
   "metadata": {},
   "outputs": [
    {
     "name": "stdout",
     "output_type": "stream",
     "text": [
      "MSE:  723347664.7668213\n",
      "RMSE:  26895.123438400897\n",
      "R2:  0.9237815944729434\n",
      "\n",
      "MSE:  2532649013.103477\n",
      "RMSE:  50325.43107717486\n",
      "R2:  0.737871028932944\n"
     ]
    }
   ],
   "source": [
    "plot_forest_errors(20,X,y,X_t,y_t)\n",
    "\n",
    "woods = RandomForestRegressor() \n",
    "pred_train,pred_test = woods.fit(X,y.values.ravel()).predict(X),woods.fit(X,y.values.ravel()).predict(X_t)\n",
    "\n",
    "\n",
    "print_errors(y, pred_train)\n",
    "print('')\n",
    "print_errors(y_t, pred_test)\n"
   ]
  },
  {
   "cell_type": "markdown",
   "metadata": {},
   "source": [
    "## Tests for PyCharm"
   ]
  },
  {
   "cell_type": "code",
   "execution_count": 66,
   "metadata": {},
   "outputs": [],
   "source": [
    "import unittest\n",
    "\n",
    "class TestErrorCalculation(unittest.TestCase):\n",
    "\n",
    "    def test_upper(self):\n",
    "        self.assertEqual('foo'.upper(), 'FOO')\n",
    "\n",
    "    def test_isupper(self):\n",
    "        self.assertTrue('FOO'.isupper())\n",
    "        self.assertFalse('Foo'.isupper())\n",
    "\n",
    "    def test_split(self):\n",
    "        s = 'hello world'\n",
    "        self.assertEqual(s.split(), ['hello', 'world'])\n",
    "        # check that s.split fails when the separator is not a string\n",
    "        with self.assertRaises(TypeError):\n",
    "            s.split(2)\n",
    "\n"
   ]
  },
  {
   "cell_type": "code",
   "execution_count": null,
   "metadata": {},
   "outputs": [],
   "source": []
  },
  {
   "cell_type": "code",
   "execution_count": null,
   "metadata": {},
   "outputs": [],
   "source": []
  },
  {
   "cell_type": "code",
   "execution_count": null,
   "metadata": {},
   "outputs": [],
   "source": []
  },
  {
   "cell_type": "markdown",
   "metadata": {},
   "source": [
    "## Decision Tree: Pruning"
   ]
  },
  {
   "cell_type": "code",
   "execution_count": null,
   "metadata": {},
   "outputs": [],
   "source": [
    "import sys\n",
    "\n",
    "from sklearn.tree import _tree\n",
    "\n",
    "\n",
    "def prune(inner_tree, index):\n",
    "    \"\"\"\n",
    "    The given tree object is modified to resemble a version pruned at index\n",
    "    @:param inner_tree: sk-learn tree object\n",
    "    @:param index: the index of the node at which inner_tree is pruned\n",
    "    \"\"\"\n",
    "\n",
    "    # wenn es 'children' gibt besuche ich die 'children'\n",
    "    if inner_tree.children_left[index] != _tree.TREE_LEAF:\n",
    "        prune(inner_tree, inner_tree.children_left[index])\n",
    "\n",
    "        prune(inner_tree, inner_tree.children_right[index])\n",
    "\n",
    "        # set node to leaf\n",
    "        idx_left = inner_tree.children_left[index]\n",
    "        idx_right = inner_tree.children_right[index]\n",
    "\n",
    "        inner_tree.children_left[index] = _tree.TREE_LEAF\n",
    "        inner_tree.children_right[index] = _tree.TREE_LEAF\n",
    "\n",
    "        inner_tree.n_node_samples[idx_left] = 0\n",
    "        inner_tree.n_node_samples[idx_right] = 0\n",
    "\n",
    "        inner_tree.impurity[idx_left] = 0\n",
    "        inner_tree.impurity[idx_right] = 0\n",
    "\n",
    "\n",
    "    else:\n",
    "        # wenn es keine 'children' gibt kann ich prunen\n",
    "        inner_tree.n_node_samples[index] = 0\n",
    "\n",
    "\n",
    "def determine_alpha(tree):\n",
    "    \"\"\"\n",
    "    Given a regression tree, the relevant penalty scalars gk are determined for pruning. Every\n",
    "    inner node of the tree is visit to evaluate the penalty scalar gk that would make pruning in each node reasonable.\n",
    "    The minimum gk is returned\n",
    "    @:param tree: sk-learn tree object\n",
    "    @:returns the index and corresponding values of the minimal gk found in the tree (alpha)\n",
    "    \"\"\"\n",
    "    min_gk = sys.maxsize\n",
    "    min_node_idx = tree.node_count\n",
    "\n",
    "    # traverse all inner nodes in to find min_gk\n",
    "    for node_idx in range(tree.node_count):\n",
    "        # if node is a leaf node, skip node\n",
    "        if tree.children_left[node_idx] == _tree.TREE_LEAF:\n",
    "            continue\n",
    "\n",
    "        # inner node\n",
    "        node_impurity = tree.n_node_samples[node_idx] * tree.impurity[node_idx]\n",
    "        subtree_impurity, subtree_leafs = _calc_impurity(tree, node_idx)\n",
    "        \n",
    "        idx_list, ni_list, sti_list, stl_list = [],[],[],[]\n",
    "        idx_list.append(node_idx)\n",
    "        ni_list.append(node_impurity)\n",
    "        sti_list.append(subtree_impurity)\n",
    "        stl_list.append(subtree_leafs)\n",
    "        df = pd.DataFrame()\n",
    "        df['Node idx']=(idx_list)\n",
    "        df['Node impurity']=(ni_list)\n",
    "        df['Subtree impurity']=(sti_list)\n",
    "        df['Subtree leafs']=(stl_list)\n",
    "        \n",
    "        \n",
    "\n",
    "        #print('IDX: ', node_idx, 'NI: ', node_impurity, 'STI: ', subtree_impurity, 'STL: ', subtree_leafs)\n",
    "\n",
    "        gk = (node_impurity - subtree_impurity) / (subtree_leafs - 1.)\n",
    "\n",
    "        if gk < min_gk:\n",
    "            min_node_idx = node_idx\n",
    "            min_gk = gk\n",
    "       \n",
    "    return min_node_idx, min_gk\n",
    "\n",
    "\n",
    "def _calc_impurity(tree, index):\n",
    "    \"\"\"\n",
    "    Calc_impurity is a recursive function for calculating the absolute impurity of any subtree.\n",
    "    The absolute impurity is calculated by the impurity of every leaf-node scaled with the number of samples per node.\n",
    "    @:param tree: sk-learn tree object\n",
    "    @:param index: the index of the root node of the subtree\n",
    "    @:returns impurity and leaf count of subtree\n",
    "    \"\"\"\n",
    "\n",
    "    # print(\"index: \", index, \" impurity: \", d_tree.tree_.n_node_samples[index] * tree.impurity[index] / 10000000)\n",
    "    # wenn es 'children' besuche die 'children'\n",
    "    if tree.children_left[index] != _tree.TREE_LEAF:\n",
    "        impurity_left, leafs_left = _calc_impurity(tree, tree.children_left[index])\n",
    "        impurity_right, leafs_right = _calc_impurity(tree, tree.children_right[index])\n",
    "\n",
    "        return impurity_left + impurity_right, leafs_left + leafs_right\n",
    "\n",
    "    # wenn es keine 'children' gibt bin ich ein leaf Knoten\n",
    "    else:\n",
    "        # print(\"index: \", index, \" cost: \", d_tree.tree_.n_node_samples[index] * tree.impurity[index]/10000000)\n",
    "        return tree.n_node_samples[index] * tree.impurity[index], 1\n",
    "\n",
    "\n",
    "\n"
   ]
  },
  {
   "cell_type": "code",
   "execution_count": null,
   "metadata": {},
   "outputs": [],
   "source": [
    "import time\n",
    "\n",
    "\n",
    "def fit(model, features, targets):\n",
    "    start = time.time()\n",
    "    model.fit(features, targets)\n",
    "    end = time.time()\n",
    "    print ('Time train: ' + str(round((end-start),4)))\n",
    "    return model\n",
    "\n",
    "\n",
    "def predict_w_proba(model, data):\n",
    "    start = time.time()\n",
    "    pred = model.predict(data)\n",
    "    pred_proba = model.predict_proba(data)\n",
    "    end = time.time()\n",
    "    print ('Time test: ' + str(round((end-start),4)))\n",
    "    return pred, pred_proba\n",
    "\n",
    "def predict(model, data):\n",
    "    start = time.time()\n",
    "    pred = model.predict(data)\n",
    "    end = time.time()\n",
    "    print ('Time test: ' + str(round((end-start),4)))\n",
    "    return pred\n"
   ]
  },
  {
   "cell_type": "code",
   "execution_count": null,
   "metadata": {},
   "outputs": [],
   "source": [
    "result= fit(DecisionTreeRegressor(max_depth=5),housing_train[['latitude', 'longitude']], housing_train['median_house_value'])\n",
    "\n",
    "predictions_tree = predict(result,housing_test[['latitude', 'longitude']])\n",
    "\n"
   ]
  },
  {
   "cell_type": "code",
   "execution_count": null,
   "metadata": {},
   "outputs": [],
   "source": [
    "fitted= fit(RandomForestRegressor(max_depth=14),housing_train[['latitude', 'longitude']], housing_train['median_house_value'])\n",
    "\n",
    "predictions_forest = predict(fitted,housing_test[['latitude', 'longitude']])"
   ]
  },
  {
   "cell_type": "code",
   "execution_count": null,
   "metadata": {},
   "outputs": [],
   "source": []
  },
  {
   "cell_type": "code",
   "execution_count": null,
   "metadata": {},
   "outputs": [],
   "source": [
    "\n",
    "result_df=pd.DataFrame((housing_test[['median_house_value']]))\n",
    "result_df['Forest'] = predictions_forest\n",
    "result_df['Tree'] = predictions_tree\n",
    "\n",
    "result_df.head()"
   ]
  },
  {
   "cell_type": "code",
   "execution_count": null,
   "metadata": {},
   "outputs": [],
   "source": [
    "print(type(housing_test['median_house_value']))\n",
    "print(type(result_df['median_house_value']))\n",
    "print(type(predictions_forest.tolist()))"
   ]
  },
  {
   "cell_type": "code",
   "execution_count": 68,
   "metadata": {},
   "outputs": [
    {
     "name": "stdout",
     "output_type": "stream",
     "text": [
      "MSE:  2548537071.176671\n",
      "RMSE:  50483.03745989014\n",
      "R2:  0.6669067722534527\n"
     ]
    }
   ],
   "source": [
    "print_errors(predictions_forest,housing_test['median_house_value'])"
   ]
  },
  {
   "cell_type": "code",
   "execution_count": 69,
   "metadata": {},
   "outputs": [
    {
     "name": "stdout",
     "output_type": "stream",
     "text": [
      "MSE:  2548537071.176671\n",
      "RMSE:  50483.03745989014\n",
      "R2:  0.7362266161882516\n"
     ]
    }
   ],
   "source": [
    "print_errors(predicted=result_df['Forest'],test=result_df['median_house_value'])"
   ]
  },
  {
   "cell_type": "code",
   "execution_count": 76,
   "metadata": {},
   "outputs": [
    {
     "name": "stdout",
     "output_type": "stream",
     "text": [
      "MSE:  5693094194.185894\n",
      "RMSE:  75452.59567560213\n",
      "R2:  0.4107652044998127\n"
     ]
    }
   ],
   "source": [
    "get_errors('regression',predicted=result_df['Tree'],test=result_df['median_house_value'])"
   ]
  },
  {
   "cell_type": "code",
   "execution_count": null,
   "metadata": {},
   "outputs": [],
   "source": [
    "import copy\n",
    "\n",
    "import pandas as pd\n",
    "import seaborn as sns\n",
    "from sklearn.tree import DecisionTreeRegressor\n",
    "\n",
    "\n",
    "sns.set()\n",
    "\n",
    "\n",
    "input_features = housing_train[['latitude', 'longitude']]\n",
    "target = housing_train['median_house_value'] / 100000\n",
    "\n",
    "d_tree = DecisionTreeRegressor(max_depth=5)\n",
    "d_tree.fit(input_features, target)\n",
    "\n",
    "tree_array = [d_tree]\n",
    "\n",
    "num_nodes = d_tree.tree_.capacity\n",
    "index = 0\n",
    "alpha = 0\n",
    "k = 1\n",
    "\n",
    "while num_nodes > 1:\n",
    "    tree_array.append(copy.deepcopy(tree_array[k - 1]))\n",
    "    min_node_idx, min_gk = determine_alpha(tree_array[k].tree_)\n",
    "    prune(tree_array[k].tree_, min_node_idx)\n",
    "    num_nodes = sum(1 * (tree_array[k].tree_.n_node_samples != 0))\n",
    "\n",
    "    k += 1\n",
    "   \n",
    "\n",
    "p_tree = tree_array[k-1]\n",
    "pred = p_tree.predict(housing_test[['latitude','longitude']])\n",
    "mse = mean_squared_error(y_pred=pred,y_true=housing_test['median_house_value']/ 100000 )\n",
    "\n",
    "print (mse)\n",
    "print_errors(predicted=pred,test=housing_test['median_house_value']/ 100000 )\n",
    "print(len(tree_array))\n",
    "\n",
    "#p_tree.tree_.impurity\n",
    "\n",
    "    #if False:\n",
    "     #   print hello\n",
    "        #for k in range(0,len(tree_array)):\n",
    "            #export_graphviz(tree_array[k], out_file='tree' + str(k) + '.dot')\n",
    "        "
   ]
  },
  {
   "cell_type": "code",
   "execution_count": null,
   "metadata": {},
   "outputs": [],
   "source": []
  }
 ],
 "metadata": {
  "kernelspec": {
   "display_name": "Python 3",
   "language": "python",
   "name": "python3"
  },
  "language_info": {
   "codemirror_mode": {
    "name": "ipython",
    "version": 3
   },
   "file_extension": ".py",
   "mimetype": "text/x-python",
   "name": "python",
   "nbconvert_exporter": "python",
   "pygments_lexer": "ipython3",
   "version": "3.6.5"
  }
 },
 "nbformat": 4,
 "nbformat_minor": 2
}
