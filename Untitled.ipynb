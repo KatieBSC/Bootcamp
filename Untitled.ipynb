{
 "cells": [
  {
   "cell_type": "code",
   "execution_count": null,
   "metadata": {},
   "outputs": [],
   "source": []
  },
  {
   "cell_type": "code",
   "execution_count": null,
   "metadata": {},
   "outputs": [],
   "source": []
  },
  {
   "cell_type": "code",
   "execution_count": null,
   "metadata": {},
   "outputs": [],
   "source": []
  },
  {
   "cell_type": "code",
   "execution_count": null,
   "metadata": {},
   "outputs": [],
   "source": []
  },
  {
   "cell_type": "code",
   "execution_count": null,
   "metadata": {},
   "outputs": [],
   "source": [
    "def overfit (max_depth,X_train,y_train,X_test,y_test):\n",
    "    train_results = []\n",
    "    test_results = []\n",
    "    df = pd.DataFrame()\n",
    "    for i in range (1,max_depth):\n",
    "    \n",
    "    # What is the initialize, fit & predict function like? Can I reference it here?  \n",
    "    # I need to be able to iterate over a range of depths\n",
    "        clf = DecisionTreeRegressor(max_depth=i)\n",
    "        pred_train = clf.fit(X_train,y_train.values.ravel()).predict(X_train)\n",
    "        pred_test = clf.fit(X_train,y_train.values.ravel()).predict(X_test)\n",
    "    \n",
    "    # I need predictions on a train and test/validate test\n",
    "        rmse_train,rmse_test = np.sqrt(mean_squared_error(y_train,pred_train)),np.sqrt(mean_squared_error(y_test,pred_test))\n",
    "        train_results.append(rmse_train)\n",
    "        test_results.append(rmse_test)\n",
    "    df['Train'],df['Test'] = (train_results), (test_results)\n",
    "    #return df.plot();\n",
    "    return df   \n",
    "\n"
   ]
  },
  {
   "cell_type": "code",
   "execution_count": null,
   "metadata": {},
   "outputs": [],
   "source": []
  },
  {
   "cell_type": "code",
   "execution_count": null,
   "metadata": {},
   "outputs": [],
   "source": []
  },
  {
   "cell_type": "code",
   "execution_count": null,
   "metadata": {},
   "outputs": [],
   "source": []
  }
 ],
 "metadata": {
  "kernelspec": {
   "display_name": "Python 3",
   "language": "python",
   "name": "python3"
  },
  "language_info": {
   "codemirror_mode": {
    "name": "ipython",
    "version": 3
   },
   "file_extension": ".py",
   "mimetype": "text/x-python",
   "name": "python",
   "nbconvert_exporter": "python",
   "pygments_lexer": "ipython3",
   "version": "3.6.5"
  }
 },
 "nbformat": 4,
 "nbformat_minor": 2
}
