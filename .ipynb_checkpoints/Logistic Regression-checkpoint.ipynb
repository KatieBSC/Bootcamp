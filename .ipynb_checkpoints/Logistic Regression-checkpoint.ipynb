{
 "cells": [
  {
   "cell_type": "markdown",
   "metadata": {},
   "source": [
    "## Digit recognition: Logistic Regression"
   ]
  },
  {
   "cell_type": "markdown",
   "metadata": {},
   "source": [
    "**Strategy:** First classify digits individually (binary classifier). Then multivariate logistic regression.<br/>\n",
    "**Measurement:** Log loss\n",
    "    "
   ]
  },
  {
   "cell_type": "code",
   "execution_count": 99,
   "metadata": {},
   "outputs": [],
   "source": [
    "import pandas as pd\n",
    "import numpy as np\n",
    "import matplotlib.pyplot as plt\n",
    "from sklearn.metrics import classification_report\n",
    "import seaborn as sns\n",
    "from sklearn.linear_model import LogisticRegression\n",
    "from sklearn import datasets, metrics\n",
    "from sklearn.metrics import confusion_matrix,accuracy_score,log_loss, roc_curve\n",
    "import statsmodels.api as sm\n",
    "from sklearn.model_selection import train_test_split,cross_val_score, GridSearchCV"
   ]
  },
  {
   "cell_type": "markdown",
   "metadata": {},
   "source": [
    "**Get the data**"
   ]
  },
  {
   "cell_type": "code",
   "execution_count": 69,
   "metadata": {},
   "outputs": [],
   "source": [
    "raw_training_data = pd.read_csv(\"data/zip.train\", header=None , sep=\" \")\n",
    "test_data = pd.read_csv(\"data/zip.test\", header=None , sep=\" \")"
   ]
  },
  {
   "cell_type": "markdown",
   "metadata": {},
   "source": [
    "**Functions for removing NaN and rename target column**"
   ]
  },
  {
   "cell_type": "code",
   "execution_count": 70,
   "metadata": {},
   "outputs": [],
   "source": [
    "def remove_nan (df):\n",
    "    return df.dropna(axis=1, how='any',thresh=None)\n",
    "\n",
    "def rename_labels (df):\n",
    "    return df.rename(columns={0:'Labels'}, inplace=True)"
   ]
  },
  {
   "cell_type": "markdown",
   "metadata": {},
   "source": [
    "**Clean data with the help of above functions**"
   ]
  },
  {
   "cell_type": "code",
   "execution_count": 71,
   "metadata": {},
   "outputs": [],
   "source": [
    "rename_labels(raw_training_data)\n",
    "training_data = remove_nan(raw_training_data) # Give the training data a new, better name\n",
    "\n",
    "rename_labels(test_data) # There are no NaN values in the test set"
   ]
  },
  {
   "cell_type": "markdown",
   "metadata": {},
   "source": [
    "**Reserve some training data for fine tuning**"
   ]
  },
  {
   "cell_type": "code",
   "execution_count": 72,
   "metadata": {},
   "outputs": [],
   "source": [
    "training_data, extra_training_data = train_test_split(training_data, test_size=0.05, random_state=11)\n"
   ]
  },
  {
   "cell_type": "markdown",
   "metadata": {},
   "source": [
    "**Eyeball the digit distribution among data sets**"
   ]
  },
  {
   "cell_type": "code",
   "execution_count": 73,
   "metadata": {},
   "outputs": [
    {
     "data": {
      "image/png": "[encoded data removed]",
      "text/plain": [
       "<Figure size 432x288 with 3 Axes>"
      ]
     },
     "metadata": {},
     "output_type": "display_data"
    }
   ],
   "source": [
    "traincount = pd.value_counts(training_data['Labels'].values, sort=True)\n",
    "extracount = pd.value_counts(extra_training_data['Labels'].values,sort=True)\n",
    "testcount = pd.value_counts(test_data['Labels'].values, sort=True)\n",
    "\n",
    "f,(ax1,ax2,ax3) = plt.subplots(3,constrained_layout=True)\n",
    "sns.barplot(traincount.index, traincount.values, alpha=0.8,ax=ax1)\n",
    "sns.barplot(testcount.index, testcount.values, alpha=0.8,ax=ax2)\n",
    "sns.barplot(extracount.index, extracount.values, alpha=0.8,ax=ax3)\n",
    "ax1.set_title('Training data')\n",
    "ax2.set_title('Test data')\n",
    "ax3.set_title('Additional training data')\n",
    "plt.show()"
   ]
  },
  {
   "cell_type": "markdown",
   "metadata": {},
   "source": [
    "The datasets appear to be somewhat evenly distributed. Let's continue."
   ]
  },
  {
   "cell_type": "markdown",
   "metadata": {},
   "source": [
    "## Digit as object, dataset as argument##\n",
    "<br/> I still need a good name for this class!"
   ]
  },
  {
   "cell_type": "code",
   "execution_count": 75,
   "metadata": {},
   "outputs": [],
   "source": [
    "class No_Name :\n",
    "    \n",
    "    def __init__(self,digit,data_train,data_test) :  \n",
    "        self.digit = digit\n",
    "        self.data_train = data_train\n",
    "        self.data_test = data_test\n",
    "        \n",
    "    def remove_train_labels(self):\n",
    "        return self.data_train.drop('Labels',axis=1)\n",
    "        \n",
    "    def remove_test_labels(self):\n",
    "        return self.data_test.drop('Labels',axis=1)\n",
    "   \n",
    "    def get_test_labels(self):\n",
    "        return (self.data_test['Labels'])\n",
    "    \n",
    "    def get_train_labels(self):\n",
    "        return (self.data_train['Labels'])\n",
    "    \n",
    "    def get_classified (self,df):\n",
    "        return (df['Labels'] == self.digit).astype(np.int)\n",
    "    \n",
    "    def get_fit(self):\n",
    "        X = self.remove_train_labels()\n",
    "        y = self.get_classified(self.data_train)\n",
    "        logreg = 0\n",
    "        logreg = LogisticRegression()\n",
    "        logreg.fit(X,y)\n",
    "        return logreg\n",
    "    \n",
    "    def predict_it (self):\n",
    "        return pd.DataFrame((self.get_fit()).predict(self.remove_test_labels()))\n",
    "\n",
    "    def get_log_loss (self):\n",
    "        y_predict =self.predict_it()\n",
    "        y_true = self.get_classified(self.data_test)\n",
    "        return log_loss (y_predict,y_true)\n",
    "        \n"
   ]
  },
  {
   "cell_type": "markdown",
   "metadata": {},
   "source": [
    "** Some functions to help with multinomial logisitic regression**"
   ]
  },
  {
   "cell_type": "code",
   "execution_count": 76,
   "metadata": {},
   "outputs": [],
   "source": [
    "def remove_labels(df):\n",
    "    return df.drop('Labels',axis=1)\n",
    "   \n",
    "def get_labels(df):\n",
    "    return (df['Labels'])"
   ]
  },
  {
   "cell_type": "markdown",
   "metadata": {},
   "source": [
    "** A function to help organize the results**"
   ]
  },
  {
   "cell_type": "code",
   "execution_count": 77,
   "metadata": {},
   "outputs": [],
   "source": [
    "def get_results_df (string):\n",
    "    first = []\n",
    "    second = []\n",
    "    third = []\n",
    "    for dig in digits :\n",
    "        first.append((pd.value_counts((digits[dig].predict_it()[0].values)))[1])\n",
    "        second.append((pd.value_counts(digits[dig].get_classified(digits[dig].data_test)).values)[1])\n",
    "        third.append(digits[dig].get_log_loss())\n",
    "    results = pd.DataFrame(first)\n",
    "    results['Actual'] = second\n",
    "    results['Log loss'] = third\n",
    "    results.columns = ['Predict','Actual','Log loss: ' + str(string)]\n",
    "    return results"
   ]
  },
  {
   "cell_type": "markdown",
   "metadata": {},
   "source": [
    "## Create ten object instances"
   ]
  },
  {
   "cell_type": "code",
   "execution_count": 78,
   "metadata": {},
   "outputs": [],
   "source": [
    "digits = {  }\n",
    "digit_list = ['zero','one','two','three','four','five','six','seven','eight','nine']\n",
    "\n",
    "k = 0\n",
    "for i in digit_list :\n",
    "    digits[i]= No_Name(data_test=training_data,data_train=training_data,digit=k)\n",
    "    k += 1\n"
   ]
  },
  {
   "cell_type": "code",
   "execution_count": 79,
   "metadata": {},
   "outputs": [
    {
     "data": {
      "text/plain": [
       "<__main__.No_Name at 0x1033924e0>"
      ]
     },
     "execution_count": 79,
     "metadata": {},
     "output_type": "execute_result"
    }
   ],
   "source": [
    "digits['zero']"
   ]
  },
  {
   "cell_type": "markdown",
   "metadata": {},
   "source": [
    "## Logistic Regression for each digit"
   ]
  },
  {
   "cell_type": "markdown",
   "metadata": {},
   "source": [
    "- Initialize a classifier instance\n",
    "- Fit \n",
    "- Predict\n",
    "- Measure"
   ]
  },
  {
   "cell_type": "markdown",
   "metadata": {},
   "source": [
    "** With the training data**"
   ]
  },
  {
   "cell_type": "code",
   "execution_count": 80,
   "metadata": {},
   "outputs": [
    {
     "data": {
      "text/html": [
       "<div>\n",
       "<style scoped>\n",
       "    .dataframe tbody tr th:only-of-type {\n",
       "        vertical-align: middle;\n",
       "    }\n",
       "\n",
       "    .dataframe tbody tr th {\n",
       "        vertical-align: top;\n",
       "    }\n",
       "\n",
       "    .dataframe thead th {\n",
       "        text-align: right;\n",
       "    }\n",
       "</style>\n",
       "<table border=\"1\" class=\"dataframe\">\n",
       "  <thead>\n",
       "    <tr style=\"text-align: right;\">\n",
       "      <th></th>\n",
       "      <th>Predict</th>\n",
       "      <th>Actual</th>\n",
       "      <th>Log loss: train</th>\n",
       "    </tr>\n",
       "  </thead>\n",
       "  <tbody>\n",
       "    <tr>\n",
       "      <th>0</th>\n",
       "      <td>1134</td>\n",
       "      <td>1138</td>\n",
       "      <td>0.069817</td>\n",
       "    </tr>\n",
       "    <tr>\n",
       "      <th>1</th>\n",
       "      <td>955</td>\n",
       "      <td>954</td>\n",
       "      <td>0.014961</td>\n",
       "    </tr>\n",
       "    <tr>\n",
       "      <th>2</th>\n",
       "      <td>660</td>\n",
       "      <td>691</td>\n",
       "      <td>0.244359</td>\n",
       "    </tr>\n",
       "    <tr>\n",
       "      <th>3</th>\n",
       "      <td>604</td>\n",
       "      <td>625</td>\n",
       "      <td>0.274280</td>\n",
       "    </tr>\n",
       "    <tr>\n",
       "      <th>4</th>\n",
       "      <td>602</td>\n",
       "      <td>617</td>\n",
       "      <td>0.294227</td>\n",
       "    </tr>\n",
       "    <tr>\n",
       "      <th>5</th>\n",
       "      <td>506</td>\n",
       "      <td>529</td>\n",
       "      <td>0.224411</td>\n",
       "    </tr>\n",
       "    <tr>\n",
       "      <th>6</th>\n",
       "      <td>626</td>\n",
       "      <td>631</td>\n",
       "      <td>0.114699</td>\n",
       "    </tr>\n",
       "    <tr>\n",
       "      <th>7</th>\n",
       "      <td>607</td>\n",
       "      <td>615</td>\n",
       "      <td>0.099738</td>\n",
       "    </tr>\n",
       "    <tr>\n",
       "      <th>8</th>\n",
       "      <td>460</td>\n",
       "      <td>512</td>\n",
       "      <td>0.478744</td>\n",
       "    </tr>\n",
       "    <tr>\n",
       "      <th>9</th>\n",
       "      <td>602</td>\n",
       "      <td>614</td>\n",
       "      <td>0.379004</td>\n",
       "    </tr>\n",
       "  </tbody>\n",
       "</table>\n",
       "</div>"
      ],
      "text/plain": [
       "   Predict  Actual  Log loss: train\n",
       "0     1134    1138         0.069817\n",
       "1      955     954         0.014961\n",
       "2      660     691         0.244359\n",
       "3      604     625         0.274280\n",
       "4      602     617         0.294227\n",
       "5      506     529         0.224411\n",
       "6      626     631         0.114699\n",
       "7      607     615         0.099738\n",
       "8      460     512         0.478744\n",
       "9      602     614         0.379004"
      ]
     },
     "execution_count": 80,
     "metadata": {},
     "output_type": "execute_result"
    }
   ],
   "source": [
    "train_results = get_results_df('train')\n",
    "train_results"
   ]
  },
  {
   "cell_type": "markdown",
   "metadata": {},
   "source": [
    "**With the extra training data**"
   ]
  },
  {
   "cell_type": "code",
   "execution_count": 81,
   "metadata": {},
   "outputs": [],
   "source": [
    "digits = {  }\n",
    "digit_list = ['zero','one','two','three','four','five','six','seven','eight','nine']\n",
    "\n",
    "k = 0\n",
    "for i in digit_list :\n",
    "    digits[i]= No_Name(data_test=extra_training_data,data_train=training_data,digit=k)\n",
    "    k += 1\n"
   ]
  },
  {
   "cell_type": "code",
   "execution_count": 82,
   "metadata": {},
   "outputs": [
    {
     "data": {
      "text/html": [
       "<div>\n",
       "<style scoped>\n",
       "    .dataframe tbody tr th:only-of-type {\n",
       "        vertical-align: middle;\n",
       "    }\n",
       "\n",
       "    .dataframe tbody tr th {\n",
       "        vertical-align: top;\n",
       "    }\n",
       "\n",
       "    .dataframe thead th {\n",
       "        text-align: right;\n",
       "    }\n",
       "</style>\n",
       "<table border=\"1\" class=\"dataframe\">\n",
       "  <thead>\n",
       "    <tr style=\"text-align: right;\">\n",
       "      <th></th>\n",
       "      <th>Predict</th>\n",
       "      <th>Actual</th>\n",
       "      <th>Log loss: extra</th>\n",
       "    </tr>\n",
       "  </thead>\n",
       "  <tbody>\n",
       "    <tr>\n",
       "      <th>0</th>\n",
       "      <td>58</td>\n",
       "      <td>56</td>\n",
       "      <td>0.567765</td>\n",
       "    </tr>\n",
       "    <tr>\n",
       "      <th>1</th>\n",
       "      <td>49</td>\n",
       "      <td>51</td>\n",
       "      <td>0.378514</td>\n",
       "    </tr>\n",
       "    <tr>\n",
       "      <th>2</th>\n",
       "      <td>40</td>\n",
       "      <td>40</td>\n",
       "      <td>0.567767</td>\n",
       "    </tr>\n",
       "    <tr>\n",
       "      <th>3</th>\n",
       "      <td>34</td>\n",
       "      <td>33</td>\n",
       "      <td>0.662394</td>\n",
       "    </tr>\n",
       "    <tr>\n",
       "      <th>4</th>\n",
       "      <td>36</td>\n",
       "      <td>35</td>\n",
       "      <td>1.040906</td>\n",
       "    </tr>\n",
       "    <tr>\n",
       "      <th>5</th>\n",
       "      <td>27</td>\n",
       "      <td>27</td>\n",
       "      <td>1.135535</td>\n",
       "    </tr>\n",
       "    <tr>\n",
       "      <th>6</th>\n",
       "      <td>30</td>\n",
       "      <td>33</td>\n",
       "      <td>0.283887</td>\n",
       "    </tr>\n",
       "    <tr>\n",
       "      <th>7</th>\n",
       "      <td>32</td>\n",
       "      <td>30</td>\n",
       "      <td>0.378509</td>\n",
       "    </tr>\n",
       "    <tr>\n",
       "      <th>8</th>\n",
       "      <td>34</td>\n",
       "      <td>30</td>\n",
       "      <td>0.567763</td>\n",
       "    </tr>\n",
       "    <tr>\n",
       "      <th>9</th>\n",
       "      <td>28</td>\n",
       "      <td>30</td>\n",
       "      <td>0.378514</td>\n",
       "    </tr>\n",
       "  </tbody>\n",
       "</table>\n",
       "</div>"
      ],
      "text/plain": [
       "   Predict  Actual  Log loss: extra\n",
       "0       58      56         0.567765\n",
       "1       49      51         0.378514\n",
       "2       40      40         0.567767\n",
       "3       34      33         0.662394\n",
       "4       36      35         1.040906\n",
       "5       27      27         1.135535\n",
       "6       30      33         0.283887\n",
       "7       32      30         0.378509\n",
       "8       34      30         0.567763\n",
       "9       28      30         0.378514"
      ]
     },
     "execution_count": 82,
     "metadata": {},
     "output_type": "execute_result"
    }
   ],
   "source": [
    "extra_results = get_results_df('extra')\n",
    "extra_results"
   ]
  },
  {
   "cell_type": "markdown",
   "metadata": {},
   "source": [
    "** With the test data**"
   ]
  },
  {
   "cell_type": "code",
   "execution_count": 83,
   "metadata": {},
   "outputs": [],
   "source": [
    "digits = {  }\n",
    "digit_list = ['zero','one','two','three','four','five','six','seven','eight','nine']\n",
    "\n",
    "k = 0\n",
    "for i in digit_list :\n",
    "    digits[i]= No_Name(data_test=test_data,data_train=training_data,digit=k)\n",
    "    k += 1"
   ]
  },
  {
   "cell_type": "code",
   "execution_count": 84,
   "metadata": {},
   "outputs": [
    {
     "data": {
      "text/html": [
       "<div>\n",
       "<style scoped>\n",
       "    .dataframe tbody tr th:only-of-type {\n",
       "        vertical-align: middle;\n",
       "    }\n",
       "\n",
       "    .dataframe tbody tr th {\n",
       "        vertical-align: top;\n",
       "    }\n",
       "\n",
       "    .dataframe thead th {\n",
       "        text-align: right;\n",
       "    }\n",
       "</style>\n",
       "<table border=\"1\" class=\"dataframe\">\n",
       "  <thead>\n",
       "    <tr style=\"text-align: right;\">\n",
       "      <th></th>\n",
       "      <th>Predict</th>\n",
       "      <th>Actual</th>\n",
       "      <th>Log loss: test</th>\n",
       "    </tr>\n",
       "  </thead>\n",
       "  <tbody>\n",
       "    <tr>\n",
       "      <th>0</th>\n",
       "      <td>365</td>\n",
       "      <td>359</td>\n",
       "      <td>0.619536</td>\n",
       "    </tr>\n",
       "    <tr>\n",
       "      <th>1</th>\n",
       "      <td>254</td>\n",
       "      <td>264</td>\n",
       "      <td>0.275352</td>\n",
       "    </tr>\n",
       "    <tr>\n",
       "      <th>2</th>\n",
       "      <td>180</td>\n",
       "      <td>198</td>\n",
       "      <td>0.998146</td>\n",
       "    </tr>\n",
       "    <tr>\n",
       "      <th>3</th>\n",
       "      <td>165</td>\n",
       "      <td>166</td>\n",
       "      <td>1.118608</td>\n",
       "    </tr>\n",
       "    <tr>\n",
       "      <th>4</th>\n",
       "      <td>195</td>\n",
       "      <td>200</td>\n",
       "      <td>1.049772</td>\n",
       "    </tr>\n",
       "    <tr>\n",
       "      <th>5</th>\n",
       "      <td>149</td>\n",
       "      <td>160</td>\n",
       "      <td>0.808842</td>\n",
       "    </tr>\n",
       "    <tr>\n",
       "      <th>6</th>\n",
       "      <td>168</td>\n",
       "      <td>170</td>\n",
       "      <td>0.481862</td>\n",
       "    </tr>\n",
       "    <tr>\n",
       "      <th>7</th>\n",
       "      <td>144</td>\n",
       "      <td>147</td>\n",
       "      <td>0.395816</td>\n",
       "    </tr>\n",
       "    <tr>\n",
       "      <th>8</th>\n",
       "      <td>151</td>\n",
       "      <td>166</td>\n",
       "      <td>1.221867</td>\n",
       "    </tr>\n",
       "    <tr>\n",
       "      <th>9</th>\n",
       "      <td>199</td>\n",
       "      <td>177</td>\n",
       "      <td>0.894882</td>\n",
       "    </tr>\n",
       "  </tbody>\n",
       "</table>\n",
       "</div>"
      ],
      "text/plain": [
       "   Predict  Actual  Log loss: test\n",
       "0      365     359        0.619536\n",
       "1      254     264        0.275352\n",
       "2      180     198        0.998146\n",
       "3      165     166        1.118608\n",
       "4      195     200        1.049772\n",
       "5      149     160        0.808842\n",
       "6      168     170        0.481862\n",
       "7      144     147        0.395816\n",
       "8      151     166        1.221867\n",
       "9      199     177        0.894882"
      ]
     },
     "execution_count": 84,
     "metadata": {},
     "output_type": "execute_result"
    }
   ],
   "source": [
    "test_results = get_results_df('test')\n",
    "test_results"
   ]
  },
  {
   "cell_type": "markdown",
   "metadata": {},
   "source": [
    "** Why is the log loss so different for different digits?**"
   ]
  },
  {
   "cell_type": "code",
   "execution_count": 85,
   "metadata": {},
   "outputs": [
    {
     "data": {
      "image/png": "[encoded data removed]",
      "text/plain": [
       "<Figure size 432x288 with 1 Axes>"
      ]
     },
     "metadata": {},
     "output_type": "display_data"
    }
   ],
   "source": [
    "x1 = train_results.index.values\n",
    "x2 = extra_results.index.values\n",
    "x3 = test_results.index.values\n",
    "y = (get_results_df('test')).iloc[:,2]\n",
    "\n",
    "plt.scatter(x1,y);\n"
   ]
  },
  {
   "cell_type": "code",
   "execution_count": 86,
   "metadata": {},
   "outputs": [],
   "source": [
    "#print (logreg_8.predict_proba(df)) # Pretty confident it's an 8\n",
    "#print (logreg_0.predict_proba(df)) # Pretty condifent it's not a 0"
   ]
  },
  {
   "cell_type": "code",
   "execution_count": 87,
   "metadata": {},
   "outputs": [],
   "source": [
    "#kt =((logreg_8.predict_proba(df))[0][1]) # Probability it's true\n",
    "#\n",
    "#\n",
    "#print (\"%.2f%%\" % (kt*100))"
   ]
  },
  {
   "cell_type": "code",
   "execution_count": null,
   "metadata": {},
   "outputs": [],
   "source": []
  },
  {
   "cell_type": "code",
   "execution_count": null,
   "metadata": {},
   "outputs": [],
   "source": []
  },
  {
   "cell_type": "code",
   "execution_count": null,
   "metadata": {},
   "outputs": [],
   "source": []
  },
  {
   "cell_type": "markdown",
   "metadata": {},
   "source": [
    "**Cost function(s)**"
   ]
  },
  {
   "cell_type": "code",
   "execution_count": 88,
   "metadata": {},
   "outputs": [],
   "source": [
    "def get_accuracy(prediction,label):\n",
    "    return accuracy_score(prediction,label,normalize=True)"
   ]
  },
  {
   "cell_type": "markdown",
   "metadata": {},
   "source": [
    "## Multinomial Logistic Regression"
   ]
  },
  {
   "cell_type": "markdown",
   "metadata": {},
   "source": [
    "**Organize training data into digit and not-digit (input and targets)**"
   ]
  },
  {
   "cell_type": "code",
   "execution_count": 89,
   "metadata": {},
   "outputs": [],
   "source": [
    "X_train = remove_labels(training_data)\n",
    "X_extra = remove_labels(extra_training_data)\n",
    "X_test = remove_labels(test_data)\n",
    "\n",
    "y_train = get_labels(training_data)\n",
    "y_extra = get_labels(extra_training_data)\n",
    "y_test = get_labels(test_data)\n"
   ]
  },
  {
   "cell_type": "markdown",
   "metadata": {},
   "source": [
    "**Initialize a classifer instance**"
   ]
  },
  {
   "cell_type": "code",
   "execution_count": 90,
   "metadata": {},
   "outputs": [],
   "source": [
    "logisticRegr = LogisticRegression(solver = 'lbfgs')"
   ]
  },
  {
   "cell_type": "markdown",
   "metadata": {},
   "source": [
    "**Fit the model**"
   ]
  },
  {
   "cell_type": "code",
   "execution_count": 91,
   "metadata": {},
   "outputs": [
    {
     "data": {
      "text/plain": [
       "LogisticRegression(C=1.0, class_weight=None, dual=False, fit_intercept=True,\n",
       "          intercept_scaling=1, max_iter=100, multi_class='ovr', n_jobs=1,\n",
       "          penalty='l2', random_state=None, solver='lbfgs', tol=0.0001,\n",
       "          verbose=0, warm_start=False)"
      ]
     },
     "execution_count": 91,
     "metadata": {},
     "output_type": "execute_result"
    }
   ],
   "source": [
    "logisticRegr.fit(X=X_train,y=y_train)"
   ]
  },
  {
   "cell_type": "markdown",
   "metadata": {},
   "source": [
    "**Evaluate the model**"
   ]
  },
  {
   "cell_type": "code",
   "execution_count": 92,
   "metadata": {},
   "outputs": [
    {
     "data": {
      "text/plain": [
       "0.9819520646838001"
      ]
     },
     "execution_count": 92,
     "metadata": {},
     "output_type": "execute_result"
    }
   ],
   "source": [
    "train_prediction = logisticRegr.predict(X=X_train)\n",
    "train_score = logisticRegr.score(X_train, y_train)\n",
    "train_score"
   ]
  },
  {
   "cell_type": "code",
   "execution_count": null,
   "metadata": {},
   "outputs": [],
   "source": []
  },
  {
   "cell_type": "code",
   "execution_count": 93,
   "metadata": {},
   "outputs": [
    {
     "data": {
      "text/plain": [
       "0.9315068493150684"
      ]
     },
     "execution_count": 93,
     "metadata": {},
     "output_type": "execute_result"
    }
   ],
   "source": [
    "extra_prediction = logisticRegr.predict(X=X_extra)\n",
    "extra_score = logisticRegr.score(X_extra, y_extra)\n",
    "extra_score"
   ]
  },
  {
   "cell_type": "code",
   "execution_count": null,
   "metadata": {},
   "outputs": [],
   "source": []
  },
  {
   "cell_type": "code",
   "execution_count": 94,
   "metadata": {},
   "outputs": [
    {
     "data": {
      "text/plain": [
       "0.9138016940707524"
      ]
     },
     "execution_count": 94,
     "metadata": {},
     "output_type": "execute_result"
    }
   ],
   "source": [
    "test_prediction = logisticRegr.predict(X=X_test)\n",
    "test_score = logisticRegr.score(X_test,y_test)\n",
    "test_score"
   ]
  },
  {
   "cell_type": "markdown",
   "metadata": {},
   "source": [
    "**Confusion matrix**"
   ]
  },
  {
   "cell_type": "code",
   "execution_count": 104,
   "metadata": {},
   "outputs": [
    {
     "name": "stdout",
     "output_type": "stream",
     "text": [
      "[[349   0   1   3   3   0   0   0   2   1]\n",
      " [  0 255   1   3   1   0   2   1   1   0]\n",
      " [  5   0 170   5   8   0   2   2   6   0]\n",
      " [  4   0   3 145   2   7   0   2   2   1]\n",
      " [  2   1   4   1 176   2   4   2   2   6]\n",
      " [  3   0   0  10   2 139   0   0   2   4]\n",
      " [  3   0   3   0   3   2 158   0   1   0]\n",
      " [  1   0   2   1   4   0   0 133   0   6]\n",
      " [  6   0   4   4   2   6   1   1 141   1]\n",
      " [  0   0   2   0   2   0   0   4   1 168]]\n"
     ]
    }
   ],
   "source": [
    "confusion_matrix = confusion_matrix(y_test, test_prediction)\n",
    "print(confusion_matrix)"
   ]
  },
  {
   "cell_type": "code",
   "execution_count": null,
   "metadata": {},
   "outputs": [],
   "source": []
  },
  {
   "cell_type": "code",
   "execution_count": 105,
   "metadata": {},
   "outputs": [
    {
     "name": "stdout",
     "output_type": "stream",
     "text": [
      "             precision    recall  f1-score   support\n",
      "\n",
      "          0       0.94      0.97      0.95       359\n",
      "          1       1.00      0.97      0.98       264\n",
      "          2       0.89      0.86      0.88       198\n",
      "          3       0.84      0.87      0.86       166\n",
      "          4       0.87      0.88      0.87       200\n",
      "          5       0.89      0.87      0.88       160\n",
      "          6       0.95      0.93      0.94       170\n",
      "          7       0.92      0.90      0.91       147\n",
      "          8       0.89      0.85      0.87       166\n",
      "          9       0.90      0.95      0.92       177\n",
      "\n",
      "avg / total       0.91      0.91      0.91      2007\n",
      "\n"
     ]
    }
   ],
   "source": [
    "print(classification_report(y_test, test_prediction))"
   ]
  },
  {
   "cell_type": "markdown",
   "metadata": {},
   "source": [
    "**Observations:** Looking at the model as a whole, it correctly classifies images 91% of the time. Looking at the digit three specifically, when our model claims an image represents the number three, it is correct 84% of the time. Additionally, it detects 87% of the threes. Having a look at the f1 scores, our model isn't too bad."
   ]
  },
  {
   "cell_type": "code",
   "execution_count": 106,
   "metadata": {},
   "outputs": [
    {
     "data": {
      "image/png": "[encoded data removed]",
      "text/plain": [
       "<Figure size 288x288 with 1 Axes>"
      ]
     },
     "metadata": {},
     "output_type": "display_data"
    }
   ],
   "source": [
    "plt.matshow(confusion_matrix,cmap=plt.cm.gray)\n",
    "plt.show()"
   ]
  },
  {
   "cell_type": "code",
   "execution_count": 109,
   "metadata": {},
   "outputs": [],
   "source": [
    "row_sums = confusion_matrix.sum(axis=1,keepdims=True)\n",
    "norm_conf_mx = confusion_matrix / row_sums"
   ]
  },
  {
   "cell_type": "markdown",
   "metadata": {},
   "source": [
    "When looking at what the model does well, everything seems peachy.  But I'm interested in where the model has problems and makes mistakes."
   ]
  },
  {
   "cell_type": "code",
   "execution_count": 111,
   "metadata": {},
   "outputs": [
    {
     "data": {
      "image/png": "[encoded data removed]",
      "text/plain": [
       "<Figure size 288x288 with 1 Axes>"
      ]
     },
     "metadata": {},
     "output_type": "display_data"
    }
   ],
   "source": [
    "np.fill_diagonal(norm_conf_mx,0)\n",
    "plt.matshow(norm_conf_mx,cmap=plt.cm.gray)\n",
    "plt.show()"
   ]
  },
  {
   "cell_type": "markdown",
   "metadata": {},
   "source": [
    "The rows are the actual categories, and the columns are the predicted categories. The bright spots let us know where the model has misclassified results. Three appears to be a tricky digit. I wonder why? Do we have any mistakes in our training data? Have we forgotten to remove any labels?"
   ]
  },
  {
   "cell_type": "markdown",
   "metadata": {},
   "source": [
    "** Three is a magic number, but also a problematic number**"
   ]
  },
  {
   "cell_type": "code",
   "execution_count": 131,
   "metadata": {},
   "outputs": [],
   "source": [
    "\n",
    "def showimage(a, *,data=test_data):\n",
    "    image = data.loc[a, 1:].values.reshape(16,16)\n",
    "    plt.figure(figsize=(10,8))\n",
    "    sns.heatmap(image, annot=True, center=0, cmap='Greys', robust='True')\n",
    "    plt.show\n",
    "\n",
    "#showimage(9)"
   ]
  },
  {
   "cell_type": "code",
   "execution_count": null,
   "metadata": {},
   "outputs": [],
   "source": []
  },
  {
   "cell_type": "code",
   "execution_count": 117,
   "metadata": {},
   "outputs": [],
   "source": [
    "some_num = test_data.iloc[0,:]"
   ]
  },
  {
   "cell_type": "markdown",
   "metadata": {},
   "source": [
    "** Continuing to analyze the results**"
   ]
  },
  {
   "cell_type": "code",
   "execution_count": 97,
   "metadata": {},
   "outputs": [
    {
     "data": {
      "text/plain": [
       "array([[-12.52567611, -18.06099285,  -9.5416251 ,  -6.92475788,\n",
       "         -4.07085679, -15.66598052, -24.72759615,  -6.99032111,\n",
       "         -4.30021427,   5.24245806]])"
      ]
     },
     "execution_count": 97,
     "metadata": {},
     "output_type": "execute_result"
    }
   ],
   "source": [
    "some_digit = remove_labels(test_data).iloc[0,:]\n",
    "some_scores = logisticRegr.decision_function([some_digit])\n",
    "some_scores"
   ]
  },
  {
   "cell_type": "code",
   "execution_count": null,
   "metadata": {},
   "outputs": [],
   "source": []
  },
  {
   "cell_type": "markdown",
   "metadata": {},
   "source": [
    "Is this a nine? That has the highest score."
   ]
  },
  {
   "cell_type": "code",
   "execution_count": 98,
   "metadata": {},
   "outputs": [
    {
     "data": {
      "text/plain": [
       "9"
      ]
     },
     "execution_count": 98,
     "metadata": {},
     "output_type": "execute_result"
    }
   ],
   "source": [
    "(test_data).iloc[0,0]"
   ]
  },
  {
   "cell_type": "markdown",
   "metadata": {},
   "source": [
    "Yup!"
   ]
  },
  {
   "cell_type": "markdown",
   "metadata": {},
   "source": [
    "**(Focusing on the \"worst\" digit, let's examine the digit three)....MAYBE!**"
   ]
  },
  {
   "cell_type": "code",
   "execution_count": null,
   "metadata": {},
   "outputs": [],
   "source": []
  },
  {
   "cell_type": "code",
   "execution_count": null,
   "metadata": {},
   "outputs": [],
   "source": []
  }
 ],
 "metadata": {
  "kernelspec": {
   "display_name": "Python 3",
   "language": "python",
   "name": "python3"
  },
  "language_info": {
   "codemirror_mode": {
    "name": "ipython",
    "version": 3
   },
   "file_extension": ".py",
   "mimetype": "text/x-python",
   "name": "python",
   "nbconvert_exporter": "python",
   "pygments_lexer": "ipython3",
   "version": "3.6.5"
  }
 },
 "nbformat": 4,
 "nbformat_minor": 2
}
