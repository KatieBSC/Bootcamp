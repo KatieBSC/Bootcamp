{
 "cells": [
  {
   "cell_type": "markdown",
   "metadata": {},
   "source": [
    "## Digit Recognition by clustering, logistic regression"
   ]
  },
  {
   "cell_type": "markdown",
   "metadata": {},
   "source": [
    "According to the given information, the data reflects 16 x 16 grayscale images of digits. \n",
    "Each line is organized by a corresponding id (0-9) followed by the 256 grayscale values.\n",
    "   <br />             \n",
    "We begin with 7291 training observations with the following distribution:\n",
    "<br />\n",
    "<br />\n",
    "&nbsp;&nbsp;&nbsp;&nbsp;&nbsp;&nbsp;&nbsp;&nbsp;&nbsp;&nbsp;&nbsp;&nbsp;&nbsp;&nbsp;&nbsp;&nbsp;&nbsp;&nbsp;&nbsp;&nbsp;&nbsp;&nbsp;&nbsp;&nbsp;&nbsp;&nbsp;&nbsp;&nbsp;&nbsp;**0&nbsp;&nbsp;&nbsp;&nbsp;&nbsp;&nbsp;&nbsp;1&nbsp;&nbsp;&nbsp;&nbsp;&nbsp;&nbsp;&nbsp;2&nbsp;&nbsp;&nbsp;&nbsp;&nbsp;&nbsp;3&nbsp;&nbsp;&nbsp;&nbsp;&nbsp;&nbsp;&nbsp;4&nbsp;&nbsp;&nbsp;&nbsp;&nbsp;&nbsp;5&nbsp;&nbsp;&nbsp;&nbsp;&nbsp;&nbsp;6&nbsp;&nbsp;&nbsp;&nbsp;&nbsp;&nbsp;7&nbsp;&nbsp;&nbsp;&nbsp;&nbsp;&nbsp;8&nbsp;&nbsp;&nbsp;&nbsp;&nbsp;&nbsp;9&nbsp;&nbsp;&nbsp;&nbsp;Total**\n",
    "<br />\n",
    "&nbsp;&nbsp;&nbsp;&nbsp;&nbsp;&nbsp;&nbsp;**Instances**&nbsp;&nbsp;1194&nbsp;&nbsp;1005&nbsp;&nbsp;&nbsp;731&nbsp;&nbsp;658&nbsp;&nbsp;652&nbsp;&nbsp;556&nbsp;&nbsp;664&nbsp;&nbsp;645&nbsp;&nbsp;542&nbsp;&nbsp;644&nbsp;&nbsp;7291\n",
    "<br />\n",
    "**as proportions** &nbsp;0.16&nbsp;&nbsp;0.14&nbsp;&nbsp;&nbsp;0.1&nbsp;&nbsp;0.09&nbsp;0.09&nbsp;0.08&nbsp;0.09&nbsp;0.09&nbsp;0.07&nbsp;0.09\n",
    "<br /><br />\n",
    "We start by importing packages, reading the data, and removing all rows which do not contain numbers.\n",
    "<br />"
   ]
  },
  {
   "cell_type": "code",
   "execution_count": 14,
   "metadata": {},
   "outputs": [],
   "source": [
    "#Do we need all of these?\n",
    "import pandas as pd\n",
    "import numpy as np\n",
    "import matplotlib.pyplot as plt\n",
    "import pylab as plot\n",
    "from sklearn import mixture, neighbors, datasets\n",
    "from sklearn.mixture import GMM\n",
    "from sklearn.cluster import KMeans\n",
    "from sklearn.metrics import confusion_matrix,accuracy_score\n",
    "import sklearn.datasets\n",
    "import seaborn as sns; sns.set()\n",
    "\n",
    "#Can we take this out????\n",
    "import warnings\n",
    "warnings.filterwarnings(\"ignore\", category=DeprecationWarning)"
   ]
  },
  {
   "cell_type": "code",
   "execution_count": 15,
   "metadata": {},
   "outputs": [],
   "source": [
    "training_data = pd.read_csv(\"data/zip.train\", header=None , sep=\" \")\n",
    "test_data = pd.read_csv(\"data/zip.test\", header=None , sep=\" \")"
   ]
  },
  {
   "cell_type": "code",
   "execution_count": 16,
   "metadata": {},
   "outputs": [],
   "source": [
    "training_data = training_data.dropna(axis=1, how='any',thresh=None)"
   ]
  },
  {
   "cell_type": "markdown",
   "metadata": {},
   "source": [
    "## Trial as object##\n"
   ]
  },
  {
   "cell_type": "code",
   "execution_count": 17,
   "metadata": {},
   "outputs": [],
   "source": [
    "classifier_dict = {}\n",
    "\n",
    "class Trial :\n",
    "    \n",
    "    def __init__(self,data) :  \n",
    "        self.data = data     # Training or test data\n",
    "       \n",
    "\n",
    "    def clean_data(self):\n",
    "        return self.data.dropna(axis=1, how='any',thresh=None)\n",
    "    \n",
    "    def remove_labels(self):\n",
    "        return self.clean_data().drop(self.data.columns[0],axis=1)\n",
    "        \n",
    "    def get_labels(self):\n",
    "        return pd.DataFrame(self.clean_data()[0])\n",
    "    \n",
    "    def add_classifier(self,classifier_name,classifier):\n",
    "        classifier_dict[classifier_name] = classifier\n",
    "    \n",
    "   # def knn_result_chart(self,n):\n",
    "   #     X = self.remove_labels()\n",
    "   #     y = self.get_labels()\n",
    "   #     neighbors = KNeighborsClassifier(n_neighbors=n)\n",
    "   #     result_df = pd.DataFrame(self.get_labels())\n",
    "   #     result_df['Results'] = pd.DataFrame(neighbors.fit(X,y).predict(X))\n",
    "   #     result_df.columns=['Given','Predicted']\n",
    "   #     return result_df\n",
    "    \n",
    "   # def get_fit (self, key) :\n",
    "        results = pd.DataFrame()\n",
    "                    \n",
    "    \n",
    "    def get_accuracy(self,n):\n",
    "        a = self.knn_result_chart(n)['Given']\n",
    "        b = self.knn_result_chart(n)['Predicted']\n",
    "        return accuracy_score(a,b, normalize=True)\n",
    "    \n",
    "    def get_mistakes(self,n):\n",
    "        a = self.knn_result_chart(n)['Given']\n",
    "        b = self.knn_result_chart(n)['Predicted']\n",
    "        mistake_list = []\n",
    "        for i in range (0,len(a)-1):\n",
    "            if a[i] != b[i] :\n",
    "                  mistake_list.append((a[i],b[i]))\n",
    "        return mistake_list\n",
    "        "
   ]
  },
  {
   "cell_type": "code",
   "execution_count": 20,
   "metadata": {},
   "outputs": [
    {
     "ename": "NameError",
     "evalue": "name 'KNeighborsClassifier' is not defined",
     "output_type": "error",
     "traceback": [
      "\u001b[0;31m---------------------------------------------------------------------------\u001b[0m",
      "\u001b[0;31mNameError\u001b[0m                                 Traceback (most recent call last)",
      "\u001b[0;32m<ipython-input-20-b2a80efcfa71>\u001b[0m in \u001b[0;36m<module>\u001b[0;34m()\u001b[0m\n\u001b[1;32m      2\u001b[0m \u001b[0mclassifier_dict\u001b[0m\u001b[0;34m[\u001b[0m\u001b[0;34m'kmeans'\u001b[0m\u001b[0;34m]\u001b[0m \u001b[0;34m=\u001b[0m \u001b[0mKMeans\u001b[0m\u001b[0;34m\u001b[0m\u001b[0m\n\u001b[1;32m      3\u001b[0m \u001b[0mclassifier_dict\u001b[0m\u001b[0;34m[\u001b[0m\u001b[0;34m'gmm'\u001b[0m\u001b[0;34m]\u001b[0m \u001b[0;34m=\u001b[0m \u001b[0mGMM\u001b[0m\u001b[0;34m\u001b[0m\u001b[0m\n\u001b[0;32m----> 4\u001b[0;31m \u001b[0mclassifier_dict\u001b[0m\u001b[0;34m[\u001b[0m\u001b[0;34m'knr'\u001b[0m\u001b[0;34m]\u001b[0m \u001b[0;34m=\u001b[0m \u001b[0mKNeighborsClassifier\u001b[0m\u001b[0;34m(\u001b[0m\u001b[0;34m)\u001b[0m\u001b[0;34m\u001b[0m\u001b[0m\n\u001b[0m\u001b[1;32m      5\u001b[0m \u001b[0mclassifier_dict\u001b[0m\u001b[0;34m[\u001b[0m\u001b[0;34m'logreg'\u001b[0m\u001b[0;34m]\u001b[0m \u001b[0;34m=\u001b[0m \u001b[0mLogisticRegression\u001b[0m\u001b[0;34m(\u001b[0m\u001b[0;34m)\u001b[0m\u001b[0;34m\u001b[0m\u001b[0m\n",
      "\u001b[0;31mNameError\u001b[0m: name 'KNeighborsClassifier' is not defined"
     ]
    }
   ],
   "source": [
    "#d['mynewkey'] = 'mynewvalue'\n",
    "classifier_dict['kmeans'] = KMeans\n",
    "classifier_dict['gmm'] = GMM\n",
    "classifier_dict['knr'] = KNeighborsClassifier\n",
    "classifier_dict['logreg'] = LogisticRegression"
   ]
  },
  {
   "cell_type": "code",
   "execution_count": null,
   "metadata": {},
   "outputs": [],
   "source": []
  }
 ],
 "metadata": {
  "kernelspec": {
   "display_name": "Python 2",
   "language": "python",
   "name": "python2"
  },
  "language_info": {
   "codemirror_mode": {
    "name": "ipython",
    "version": 2
   },
   "file_extension": ".py",
   "mimetype": "text/x-python",
   "name": "python",
   "nbconvert_exporter": "python",
   "pygments_lexer": "ipython2",
   "version": "2.7.15"
  }
 },
 "nbformat": 4,
 "nbformat_minor": 2
}
