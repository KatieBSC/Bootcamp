{
 "cells": [
  {
   "cell_type": "code",
   "execution_count": null,
   "metadata": {},
   "outputs": [],
   "source": []
  },
  {
   "cell_type": "code",
   "execution_count": 43,
   "metadata": {},
   "outputs": [],
   "source": [
    "import numpy as np\n",
    "import pandas as pd\n",
    "from sklearn.preprocessing import OneHotEncoder\n",
    "from sklearn.model_selection import train_test_split\n",
    "from sklearn.linear_model import LogisticRegression\n",
    "from sklearn.metrics import accuracy_score, log_loss"
   ]
  },
  {
   "cell_type": "code",
   "execution_count": 28,
   "metadata": {},
   "outputs": [],
   "source": [
    "data_train = pd.read_csv(\"Heart.csv\")\n",
    "cleaned_train_data = data_train.dropna(axis=0, how = 'any')\n",
    "\n"
   ]
  },
  {
   "cell_type": "code",
   "execution_count": null,
   "metadata": {},
   "outputs": [],
   "source": []
  },
  {
   "cell_type": "code",
   "execution_count": 29,
   "metadata": {},
   "outputs": [
    {
     "name": "stderr",
     "output_type": "stream",
     "text": [
      "/Users/katie/anaconda3/lib/python3.6/site-packages/ipykernel_launcher.py:1: SettingWithCopyWarning: \n",
      "A value is trying to be set on a copy of a slice from a DataFrame.\n",
      "Try using .loc[row_indexer,col_indexer] = value instead\n",
      "\n",
      "See the caveats in the documentation: http://pandas.pydata.org/pandas-docs/stable/indexing.html#indexing-view-versus-copy\n",
      "  \"\"\"Entry point for launching an IPython kernel.\n"
     ]
    }
   ],
   "source": [
    "cleaned_train_data['AHD'] = 1.0 * (cleaned_train_data['AHD']=='Yes')"
   ]
  },
  {
   "cell_type": "code",
   "execution_count": 30,
   "metadata": {},
   "outputs": [],
   "source": [
    "#input_data = (cleaned_train_data.iloc[:, :-1].values)\n",
    "#targets = cleaned_train_data['AHD'].values\n",
    "prepared_data = cleaned_train_data.drop(columns=['Thal'])\n",
    "#prepared_data = prepared_data.reset_index\n",
    "\n"
   ]
  },
  {
   "cell_type": "code",
   "execution_count": null,
   "metadata": {},
   "outputs": [],
   "source": []
  },
  {
   "cell_type": "code",
   "execution_count": null,
   "metadata": {},
   "outputs": [],
   "source": []
  },
  {
   "cell_type": "code",
   "execution_count": 31,
   "metadata": {},
   "outputs": [],
   "source": [
    "Thal_cat = cleaned_train_data['Thal']\n",
    "Thal_cat_encoded,Thal_categories = Thal_cat.factorize()\n",
    "encoder = OneHotEncoder()\n",
    "Thal_cat_1hot = encoder.fit_transform(Thal_cat_encoded.reshape(-1,1))\n",
    "Thal_cat_1hot = Thal_cat_1hot.toarray()\n",
    "Thal_df_cat_1hot = pd.DataFrame(Thal_cat_1hot)\n",
    "\n",
    "Thal_df_cat_1hot = Thal_df_cat_1hot.rename(columns=\n",
    "                            {0: 'Fixed', 1: 'Normal', 2:'Reversable'})\n"
   ]
  },
  {
   "cell_type": "code",
   "execution_count": 32,
   "metadata": {},
   "outputs": [],
   "source": [
    "Thal_df_cat_1hot.reset_index(drop=True, inplace=True)\n",
    "prepared_data.reset_index(drop=True, inplace=True)\n",
    "prepared_data = pd.concat((prepared_data, Thal_df_cat_1hot), axis=1, sort=True)\n"
   ]
  },
  {
   "cell_type": "code",
   "execution_count": 33,
   "metadata": {},
   "outputs": [],
   "source": [
    "pain_cat = cleaned_train_data['ChestPain']\n",
    "pain_cat_encoded,pain_categories = pain_cat.factorize()\n",
    "encoder = OneHotEncoder()\n",
    "pain_cat_1hot = encoder.fit_transform(pain_cat_encoded.reshape(-1,1))\n",
    "pain_cat_1hot = pain_cat_1hot.toarray()\n",
    "pain_df_cat_1hot = pd.DataFrame(pain_cat_1hot)\n",
    "\n",
    "pain_df_cat_1hot = pain_df_cat_1hot.rename(columns=\n",
    "                            {0: 'typical', 1:'asymptomatic' , 2:'nonanginal',3:'nontypical'})\n",
    "\n",
    "\n",
    "\n",
    "\n",
    "\n"
   ]
  },
  {
   "cell_type": "code",
   "execution_count": 34,
   "metadata": {},
   "outputs": [],
   "source": [
    "pain_df_cat_1hot.reset_index(drop=True, inplace=True)\n",
    "prepared_data.reset_index(drop=True, inplace=True)\n",
    "prepared_data = pd.concat((prepared_data, pain_df_cat_1hot), axis=1, sort=True)\n",
    "prepared_data= prepared_data.drop(columns=['ChestPain'],axis=1)"
   ]
  },
  {
   "cell_type": "code",
   "execution_count": 35,
   "metadata": {},
   "outputs": [
    {
     "data": {
      "text/plain": [
       "(297, 20)"
      ]
     },
     "execution_count": 35,
     "metadata": {},
     "output_type": "execute_result"
    }
   ],
   "source": [
    "prepared_data.shape"
   ]
  },
  {
   "cell_type": "code",
   "execution_count": 36,
   "metadata": {},
   "outputs": [],
   "source": [
    "data_train, data_test = train_test_split(prepared_data, test_size=0.33, random_state=11)"
   ]
  },
  {
   "cell_type": "code",
   "execution_count": 37,
   "metadata": {},
   "outputs": [],
   "source": [
    "y_train = data_train['AHD']\n",
    "X_train = data_train.drop(columns=['AHD'])\n",
    "y_test = data_test['AHD']\n",
    "X_test = data_test.drop(columns=['AHD'])"
   ]
  },
  {
   "cell_type": "code",
   "execution_count": 38,
   "metadata": {},
   "outputs": [
    {
     "data": {
      "text/plain": [
       "(198, 19)"
      ]
     },
     "execution_count": 38,
     "metadata": {},
     "output_type": "execute_result"
    }
   ],
   "source": [
    "X_train.shape"
   ]
  },
  {
   "cell_type": "code",
   "execution_count": 39,
   "metadata": {},
   "outputs": [
    {
     "data": {
      "text/plain": [
       "(99, 19)"
      ]
     },
     "execution_count": 39,
     "metadata": {},
     "output_type": "execute_result"
    }
   ],
   "source": [
    "X_test.shape"
   ]
  },
  {
   "cell_type": "code",
   "execution_count": 40,
   "metadata": {},
   "outputs": [],
   "source": [
    "log_reg = LogisticRegression()\n",
    "log_reg.fit(X_train,y_train)\n",
    "predictions = log_reg.predict(X=X_test)"
   ]
  },
  {
   "cell_type": "code",
   "execution_count": 42,
   "metadata": {},
   "outputs": [
    {
     "data": {
      "text/plain": [
       "0.8080808080808081"
      ]
     },
     "execution_count": 42,
     "metadata": {},
     "output_type": "execute_result"
    }
   ],
   "source": [
    "acc = accuracy_score(y_pred=predictions,y_true=y_test)\n",
    "acc"
   ]
  },
  {
   "cell_type": "code",
   "execution_count": 46,
   "metadata": {},
   "outputs": [
    {
     "data": {
      "text/plain": [
       "6.628670209072357"
      ]
     },
     "execution_count": 46,
     "metadata": {},
     "output_type": "execute_result"
    }
   ],
   "source": [
    "logloss = log_loss(y_pred=predictions,y_true=y_test,eps=1e-15)\n",
    "logloss"
   ]
  },
  {
   "cell_type": "code",
   "execution_count": null,
   "metadata": {},
   "outputs": [],
   "source": []
  }
 ],
 "metadata": {
  "kernelspec": {
   "display_name": "Python 3",
   "language": "python",
   "name": "python3"
  },
  "language_info": {
   "codemirror_mode": {
    "name": "ipython",
    "version": 3
   },
   "file_extension": ".py",
   "mimetype": "text/x-python",
   "name": "python",
   "nbconvert_exporter": "python",
   "pygments_lexer": "ipython3",
   "version": "3.6.5"
  }
 },
 "nbformat": 4,
 "nbformat_minor": 2
}
