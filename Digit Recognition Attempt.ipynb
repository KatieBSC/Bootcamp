{
 "cells": [
  {
   "cell_type": "markdown",
   "metadata": {},
   "source": [
    "## Digit recognition....ish"
   ]
  },
  {
   "cell_type": "code",
   "execution_count": null,
   "metadata": {},
   "outputs": [],
   "source": [
    "import pandas as pd\n",
    "import numpy as np\n",
    "import matplotlib.pyplot as plt"
   ]
  },
  {
   "cell_type": "code",
   "execution_count": null,
   "metadata": {},
   "outputs": [],
   "source": [
    "#The first row is data and not a header\n",
    "#Data in file is separated by a space and not a usual comma\n",
    "\n",
    "data = pd.read_csv(\"data/zip.train\", header=None , sep=\" \")"
   ]
  },
  {
   "cell_type": "code",
   "execution_count": null,
   "metadata": {},
   "outputs": [],
   "source": [
    "#Remove all columns containing NaN values\n",
    "\n",
    "clean_data = data.dropna(axis=1, how='any',thresh=None)\n",
    "\n"
   ]
  },
  {
   "cell_type": "code",
   "execution_count": null,
   "metadata": {},
   "outputs": [],
   "source": [
    "\n",
    "# Accepts a digit, returns a DataFrame where the first column corresponds to that digit\n",
    "\n",
    "def is_num(num) :\n",
    "    return pd.DataFrame(clean_data[clean_data[0]==num])\n",
    "\n",
    "\n",
    "#Accepts a digit, returns a DataFrame containing all training values corresponding to that digit\n",
    "\n",
    "def only_num(num) :\n",
    "    only_num_df = pd.DataFrame((is_num(num)).drop((is_num(num)).columns[[0]],axis=1))\n",
    "    return only_num_df\n",
    "\n",
    "\n",
    "#Accepts a digit and returns a list of the (training data) indices where the values are NOT one\n",
    "\n",
    "def index_non_ones(num) :\n",
    "    only_num_df = only_num(num)\n",
    "    i = 0\n",
    "    non_ones_list = []\n",
    "    \n",
    "    while i < len(only_num_df.median()) : \n",
    "        if abs(only_num_df.median().iloc[i]) != 1 :\n",
    "            non_ones_list.append(i+1)\n",
    "        i += 1\n",
    "        \n",
    "    return non_ones_list   \n",
    "\n",
    "def test(vector,num) :\n",
    "    good_count = 0\n",
    "    bad_count = 0\n",
    "    for i in index_non_ones(num) :\n",
    "        if abs(vector.iloc[i]) == 1 :\n",
    "            bad_count += 1\n",
    "        else :\n",
    "            good_count += 1\n",
    "    if good_count > bad_count :\n",
    "        string = \"Could be \" + str(num)\n",
    "    else :\n",
    "        string = \"Fail\"\n",
    "    return string\n",
    "       \n",
    "def could_be_test(vector) :\n",
    "    possible_list = []\n",
    "    for i in range (10) :\n",
    "        if (test(vector,i)) != \"Fail\" :\n",
    "            possible_list.append(i)\n",
    "    return possible_list\n",
    "    "
   ]
  },
  {
   "cell_type": "code",
   "execution_count": null,
   "metadata": {},
   "outputs": [],
   "source": [
    "#Are any of the indices identical? NOPE!\n",
    "\n",
    "for i in range (0,9) :\n",
    "    if index_non_ones(i) == index_non_ones(i+1) :\n",
    "        print (str(i) + \"=\" + str(i+1))\n",
    "    else:\n",
    "        print (str(i) + \"!=\" + str(i+1))"
   ]
  },
  {
   "cell_type": "code",
   "execution_count": null,
   "metadata": {},
   "outputs": [],
   "source": []
  },
  {
   "cell_type": "markdown",
   "metadata": {},
   "source": [
    "## Let's test it!"
   ]
  },
  {
   "cell_type": "code",
   "execution_count": null,
   "metadata": {},
   "outputs": [],
   "source": [
    "test_data = pd.read_csv(\"data/zip.test\", header=None , sep=\" \")"
   ]
  },
  {
   "cell_type": "code",
   "execution_count": null,
   "metadata": {},
   "outputs": [],
   "source": [
    "test_data.head(10)"
   ]
  },
  {
   "cell_type": "code",
   "execution_count": null,
   "metadata": {},
   "outputs": [],
   "source": [
    "test_vector_9 = test_data.iloc[0][1:]\n",
    "test_vector_6 = test_data.iloc[4][1:]\n",
    "test_vector_0 = test_data.iloc[7][1:]"
   ]
  },
  {
   "cell_type": "code",
   "execution_count": null,
   "metadata": {},
   "outputs": [],
   "source": [
    "could_be_test(test_vector_9)"
   ]
  },
  {
   "cell_type": "code",
   "execution_count": null,
   "metadata": {},
   "outputs": [],
   "source": [
    "could_be_test(test_vector_6)"
   ]
  },
  {
   "cell_type": "code",
   "execution_count": null,
   "metadata": {},
   "outputs": [],
   "source": [
    "could_be_test(test_vector_0)"
   ]
  },
  {
   "cell_type": "code",
   "execution_count": null,
   "metadata": {},
   "outputs": [],
   "source": [
    "could_be_test(test_vector_3)"
   ]
  },
  {
   "cell_type": "markdown",
   "metadata": {},
   "source": [
    "# Not necessary"
   ]
  },
  {
   "cell_type": "code",
   "execution_count": null,
   "metadata": {},
   "outputs": [],
   "source": [
    "def could_be_test(vector) :\n",
    "    possible_list = []\n",
    "    for i in range (10) :\n",
    "        if test(vector,i) != \"Fail\" :\n",
    "            possible_list.append(i)\n",
    "    return possible_list"
   ]
  },
  {
   "cell_type": "code",
   "execution_count": null,
   "metadata": {},
   "outputs": [],
   "source": [
    "def test(vector,num) :\n",
    "    good_count = 0\n",
    "    bad_count = 0\n",
    "    for i in index_non_ones(num) :\n",
    "        if abs(vector.iloc[i]) == 1 :\n",
    "            bad_count += 1\n",
    "        else :\n",
    "            good_count += 1\n",
    "    if good_count > bad_count :\n",
    "        string = \"Could be \" + str(num)\n",
    "    else :\n",
    "        string = \"Fail\"\n",
    "    return string"
   ]
  },
  {
   "cell_type": "code",
   "execution_count": null,
   "metadata": {},
   "outputs": [],
   "source": [
    "class Digit_Test :\n",
    "     def __init__(self,vector):\n",
    "        self.vector = vector"
   ]
  }
 ],
 "metadata": {
  "kernelspec": {
   "display_name": "Python 2",
   "language": "python",
   "name": "python2"
  },
  "language_info": {
   "codemirror_mode": {
    "name": "ipython",
    "version": 2
   },
   "file_extension": ".py",
   "mimetype": "text/x-python",
   "name": "python",
   "nbconvert_exporter": "python",
   "pygments_lexer": "ipython2",
   "version": "2.7.15"
  }
 },
 "nbformat": 4,
 "nbformat_minor": 2
}
